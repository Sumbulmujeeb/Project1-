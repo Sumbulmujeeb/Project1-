{
 "cells": [
  {
   "cell_type": "code",
   "execution_count": 1,
   "metadata": {},
   "outputs": [],
   "source": [
    "import pandas as pd\n",
    "import numpy as np\n",
    "import seaborn as sns\n",
    "import matplotlib.pyplot as plt"
   ]
  },
  {
   "cell_type": "code",
   "execution_count": 2,
   "metadata": {},
   "outputs": [],
   "source": [
    "df = pd.read_excel(\"Dataset/loan-data.xlsx\" , index_col=0 )"
   ]
  },
  {
   "cell_type": "code",
   "execution_count": 3,
   "metadata": {},
   "outputs": [
    {
     "data": {
      "text/plain": [
       "(38480, 36)"
      ]
     },
     "execution_count": 3,
     "metadata": {},
     "output_type": "execute_result"
    }
   ],
   "source": [
    "df.shape"
   ]
  },
  {
   "cell_type": "code",
   "execution_count": 4,
   "metadata": {},
   "outputs": [
    {
     "data": {
      "text/html": [
       "<div>\n",
       "<style scoped>\n",
       "    .dataframe tbody tr th:only-of-type {\n",
       "        vertical-align: middle;\n",
       "    }\n",
       "\n",
       "    .dataframe tbody tr th {\n",
       "        vertical-align: top;\n",
       "    }\n",
       "\n",
       "    .dataframe thead th {\n",
       "        text-align: right;\n",
       "    }\n",
       "</style>\n",
       "<table border=\"1\" class=\"dataframe\">\n",
       "  <thead>\n",
       "    <tr style=\"text-align: right;\">\n",
       "      <th></th>\n",
       "      <th>id</th>\n",
       "      <th>member_id</th>\n",
       "      <th>loan_amnt</th>\n",
       "      <th>funded_amnt</th>\n",
       "      <th>funded_amnt_inv</th>\n",
       "      <th>term</th>\n",
       "      <th>int_rate</th>\n",
       "      <th>installment</th>\n",
       "      <th>emp_length</th>\n",
       "      <th>home_ownership</th>\n",
       "      <th>...</th>\n",
       "      <th>total_acc</th>\n",
       "      <th>total_pymnt</th>\n",
       "      <th>total_pymnt_inv</th>\n",
       "      <th>total_rec_prncp</th>\n",
       "      <th>total_rec_int</th>\n",
       "      <th>last_pymnt_d</th>\n",
       "      <th>last_pymnt_amnt</th>\n",
       "      <th>next_pymnt_d</th>\n",
       "      <th>last_credit_pull_d</th>\n",
       "      <th>repay_fail</th>\n",
       "    </tr>\n",
       "  </thead>\n",
       "  <tbody>\n",
       "    <tr>\n",
       "      <th>2</th>\n",
       "      <td>2</td>\n",
       "      <td>2</td>\n",
       "      <td>0.0</td>\n",
       "      <td>0.0</td>\n",
       "      <td>0.0</td>\n",
       "      <td>36 months</td>\n",
       "      <td>0.00</td>\n",
       "      <td>0.00</td>\n",
       "      <td>&lt; 1 year</td>\n",
       "      <td>RENT</td>\n",
       "      <td>...</td>\n",
       "      <td>1.0</td>\n",
       "      <td>0.000000</td>\n",
       "      <td>0.00</td>\n",
       "      <td>0.00</td>\n",
       "      <td>0.00</td>\n",
       "      <td>2023-01-07</td>\n",
       "      <td>0.00</td>\n",
       "      <td>2023-01-07</td>\n",
       "      <td>2023-01-07</td>\n",
       "      <td>1</td>\n",
       "    </tr>\n",
       "    <tr>\n",
       "      <th>3</th>\n",
       "      <td>545583</td>\n",
       "      <td>703644</td>\n",
       "      <td>2500.0</td>\n",
       "      <td>2500.0</td>\n",
       "      <td>2500.0</td>\n",
       "      <td>36 months</td>\n",
       "      <td>13.98</td>\n",
       "      <td>85.42</td>\n",
       "      <td>4 years</td>\n",
       "      <td>RENT</td>\n",
       "      <td>...</td>\n",
       "      <td>10.0</td>\n",
       "      <td>3075.291779</td>\n",
       "      <td>3075.29</td>\n",
       "      <td>2500.00</td>\n",
       "      <td>575.29</td>\n",
       "      <td>2023-07-13</td>\n",
       "      <td>90.85</td>\n",
       "      <td>2023-08-13</td>\n",
       "      <td>2023-06-16</td>\n",
       "      <td>0</td>\n",
       "    </tr>\n",
       "    <tr>\n",
       "      <th>4</th>\n",
       "      <td>532101</td>\n",
       "      <td>687836</td>\n",
       "      <td>5000.0</td>\n",
       "      <td>5000.0</td>\n",
       "      <td>5000.0</td>\n",
       "      <td>36 months</td>\n",
       "      <td>15.95</td>\n",
       "      <td>175.67</td>\n",
       "      <td>4 years</td>\n",
       "      <td>RENT</td>\n",
       "      <td>...</td>\n",
       "      <td>15.0</td>\n",
       "      <td>2948.760000</td>\n",
       "      <td>2948.76</td>\n",
       "      <td>1909.02</td>\n",
       "      <td>873.81</td>\n",
       "      <td>2023-11-11</td>\n",
       "      <td>175.67</td>\n",
       "      <td>NaT</td>\n",
       "      <td>2023-03-12</td>\n",
       "      <td>1</td>\n",
       "    </tr>\n",
       "    <tr>\n",
       "      <th>5</th>\n",
       "      <td>877788</td>\n",
       "      <td>1092507</td>\n",
       "      <td>7000.0</td>\n",
       "      <td>7000.0</td>\n",
       "      <td>7000.0</td>\n",
       "      <td>36 months</td>\n",
       "      <td>9.91</td>\n",
       "      <td>225.58</td>\n",
       "      <td>10+ years</td>\n",
       "      <td>MORTGAGE</td>\n",
       "      <td>...</td>\n",
       "      <td>20.0</td>\n",
       "      <td>8082.391880</td>\n",
       "      <td>8082.39</td>\n",
       "      <td>7000.00</td>\n",
       "      <td>1082.39</td>\n",
       "      <td>2023-03-14</td>\n",
       "      <td>1550.27</td>\n",
       "      <td>NaT</td>\n",
       "      <td>2023-03-14</td>\n",
       "      <td>0</td>\n",
       "    </tr>\n",
       "    <tr>\n",
       "      <th>6</th>\n",
       "      <td>875406</td>\n",
       "      <td>1089981</td>\n",
       "      <td>2000.0</td>\n",
       "      <td>2000.0</td>\n",
       "      <td>2000.0</td>\n",
       "      <td>36 months</td>\n",
       "      <td>5.42</td>\n",
       "      <td>60.32</td>\n",
       "      <td>10+ years</td>\n",
       "      <td>RENT</td>\n",
       "      <td>...</td>\n",
       "      <td>15.0</td>\n",
       "      <td>2161.663244</td>\n",
       "      <td>2161.66</td>\n",
       "      <td>2000.00</td>\n",
       "      <td>161.66</td>\n",
       "      <td>2023-02-14</td>\n",
       "      <td>53.12</td>\n",
       "      <td>NaT</td>\n",
       "      <td>2023-06-16</td>\n",
       "      <td>0</td>\n",
       "    </tr>\n",
       "  </tbody>\n",
       "</table>\n",
       "<p>5 rows × 36 columns</p>\n",
       "</div>"
      ],
      "text/plain": [
       "       id  member_id  loan_amnt  funded_amnt  funded_amnt_inv       term  \\\n",
       "2       2          2        0.0          0.0              0.0  36 months   \n",
       "3  545583     703644     2500.0       2500.0           2500.0  36 months   \n",
       "4  532101     687836     5000.0       5000.0           5000.0  36 months   \n",
       "5  877788    1092507     7000.0       7000.0           7000.0  36 months   \n",
       "6  875406    1089981     2000.0       2000.0           2000.0  36 months   \n",
       "\n",
       "   int_rate  installment emp_length home_ownership  ...  total_acc  \\\n",
       "2      0.00         0.00   < 1 year           RENT  ...        1.0   \n",
       "3     13.98        85.42    4 years           RENT  ...       10.0   \n",
       "4     15.95       175.67    4 years           RENT  ...       15.0   \n",
       "5      9.91       225.58  10+ years       MORTGAGE  ...       20.0   \n",
       "6      5.42        60.32  10+ years           RENT  ...       15.0   \n",
       "\n",
       "   total_pymnt total_pymnt_inv total_rec_prncp total_rec_int last_pymnt_d  \\\n",
       "2     0.000000            0.00            0.00          0.00   2023-01-07   \n",
       "3  3075.291779         3075.29         2500.00        575.29   2023-07-13   \n",
       "4  2948.760000         2948.76         1909.02        873.81   2023-11-11   \n",
       "5  8082.391880         8082.39         7000.00       1082.39   2023-03-14   \n",
       "6  2161.663244         2161.66         2000.00        161.66   2023-02-14   \n",
       "\n",
       "  last_pymnt_amnt  next_pymnt_d  last_credit_pull_d repay_fail  \n",
       "2            0.00    2023-01-07          2023-01-07          1  \n",
       "3           90.85    2023-08-13          2023-06-16          0  \n",
       "4          175.67           NaT          2023-03-12          1  \n",
       "5         1550.27           NaT          2023-03-14          0  \n",
       "6           53.12           NaT          2023-06-16          0  \n",
       "\n",
       "[5 rows x 36 columns]"
      ]
     },
     "execution_count": 4,
     "metadata": {},
     "output_type": "execute_result"
    }
   ],
   "source": [
    "df.head()"
   ]
  },
  {
   "cell_type": "code",
   "execution_count": 5,
   "metadata": {},
   "outputs": [
    {
     "name": "stdout",
     "output_type": "stream",
     "text": [
      "<class 'pandas.core.frame.DataFrame'>\n",
      "Int64Index: 38480 entries, 2 to 38480\n",
      "Data columns (total 36 columns):\n",
      " #   Column                  Non-Null Count  Dtype         \n",
      "---  ------                  --------------  -----         \n",
      " 0   id                      38480 non-null  int64         \n",
      " 1   member_id               38480 non-null  int64         \n",
      " 2   loan_amnt               38479 non-null  float64       \n",
      " 3   funded_amnt             38479 non-null  float64       \n",
      " 4   funded_amnt_inv         38479 non-null  float64       \n",
      " 5   term                    38480 non-null  object        \n",
      " 6   int_rate                38480 non-null  float64       \n",
      " 7   installment             38479 non-null  float64       \n",
      " 8   emp_length              37487 non-null  object        \n",
      " 9   home_ownership          38480 non-null  object        \n",
      " 10  annual_inc              38478 non-null  float64       \n",
      " 11  verification_status     38480 non-null  object        \n",
      " 12  issue_d                 38480 non-null  datetime64[ns]\n",
      " 13  loan_status             38480 non-null  object        \n",
      " 14  purpose                 38480 non-null  object        \n",
      " 15  zip_code                38480 non-null  object        \n",
      " 16  addr_state              38480 non-null  object        \n",
      " 17  dti                     38480 non-null  float64       \n",
      " 18  delinq_2yrs             38479 non-null  float64       \n",
      " 19  earliest_cr_line        38480 non-null  datetime64[ns]\n",
      " 20  inq_last_6mths          38479 non-null  float64       \n",
      " 21  mths_since_last_delinq  14117 non-null  float64       \n",
      " 22  open_acc                38479 non-null  float64       \n",
      " 23  pub_rec                 38479 non-null  float64       \n",
      " 24  revol_bal               38476 non-null  float64       \n",
      " 25  revol_util              38421 non-null  object        \n",
      " 26  total_acc               38479 non-null  float64       \n",
      " 27  total_pymnt             38479 non-null  float64       \n",
      " 28  total_pymnt_inv         38479 non-null  float64       \n",
      " 29  total_rec_prncp         38479 non-null  float64       \n",
      " 30  total_rec_int           38479 non-null  float64       \n",
      " 31  last_pymnt_d            38409 non-null  datetime64[ns]\n",
      " 32  last_pymnt_amnt         38479 non-null  float64       \n",
      " 33  next_pymnt_d            3383 non-null   datetime64[ns]\n",
      " 34  last_credit_pull_d      38477 non-null  datetime64[ns]\n",
      " 35  repay_fail              38480 non-null  int64         \n",
      "dtypes: datetime64[ns](5), float64(19), int64(3), object(9)\n",
      "memory usage: 10.9+ MB\n"
     ]
    }
   ],
   "source": [
    "df.info()"
   ]
  },
  {
   "cell_type": "code",
   "execution_count": 6,
   "metadata": {},
   "outputs": [
    {
     "data": {
      "text/plain": [
       "id                            0\n",
       "member_id                     0\n",
       "loan_amnt                     1\n",
       "funded_amnt                   1\n",
       "funded_amnt_inv               1\n",
       "term                          0\n",
       "int_rate                      0\n",
       "installment                   1\n",
       "emp_length                  993\n",
       "home_ownership                0\n",
       "annual_inc                    2\n",
       "verification_status           0\n",
       "issue_d                       0\n",
       "loan_status                   0\n",
       "purpose                       0\n",
       "zip_code                      0\n",
       "addr_state                    0\n",
       "dti                           0\n",
       "delinq_2yrs                   1\n",
       "earliest_cr_line              0\n",
       "inq_last_6mths                1\n",
       "mths_since_last_delinq    24363\n",
       "open_acc                      1\n",
       "pub_rec                       1\n",
       "revol_bal                     4\n",
       "revol_util                   59\n",
       "total_acc                     1\n",
       "total_pymnt                   1\n",
       "total_pymnt_inv               1\n",
       "total_rec_prncp               1\n",
       "total_rec_int                 1\n",
       "last_pymnt_d                 71\n",
       "last_pymnt_amnt               1\n",
       "next_pymnt_d              35097\n",
       "last_credit_pull_d            3\n",
       "repay_fail                    0\n",
       "dtype: int64"
      ]
     },
     "execution_count": 6,
     "metadata": {},
     "output_type": "execute_result"
    }
   ],
   "source": [
    "df.isna().sum()"
   ]
  },
  {
   "cell_type": "code",
   "execution_count": 7,
   "metadata": {},
   "outputs": [
    {
     "data": {
      "text/plain": [
       "array(['< 1 year', '4 years', '10+ years', nan, '3 years', '5 years',\n",
       "       '7 years', '2 years', '1 year', '6 years', '9 years', '8 years'],\n",
       "      dtype=object)"
      ]
     },
     "execution_count": 7,
     "metadata": {},
     "output_type": "execute_result"
    }
   ],
   "source": [
    "df.emp_length.unique()"
   ]
  },
  {
   "cell_type": "code",
   "execution_count": 8,
   "metadata": {},
   "outputs": [
    {
     "data": {
      "text/plain": [
       "array([ nan,  59.,   3.,  72.,  25.,  61.,  41.,  42.,  13.,  79.,  19.,\n",
       "        18.,   1.,  16.,  15.,  45.,  76.,   8.,  23.,  21.,  52.,   0.,\n",
       "        75.,  40.,  51.,  65.,   4.,  17.,  29.,  22.,   5.,  12.,  39.,\n",
       "        33.,  49.,  78.,  58.,  69.,  24.,  64.,  10.,  31.,  68.,  14.,\n",
       "        28.,  30.,   7.,  56.,  85.,  62.,  36.,  44.,  35.,  27.,  46.,\n",
       "        63.,  47.,  48.,  57.,  74.,  67.,  20.,  11.,  34.,  80.,  73.,\n",
       "        71.,  66.,  81.,  43.,  38.,  37.,  54.,  26.,   9.,  32.,  60.,\n",
       "        77.,  55.,   2.,  50.,  53.,   6.,  70.,  82.,  86., 115.,  83.,\n",
       "       103.,  96., 120.,  89.,  95., 106.])"
      ]
     },
     "execution_count": 8,
     "metadata": {},
     "output_type": "execute_result"
    }
   ],
   "source": [
    "df.mths_since_last_delinq.unique()"
   ]
  },
  {
   "cell_type": "code",
   "execution_count": 9,
   "metadata": {},
   "outputs": [
    {
     "data": {
      "text/plain": [
       "24363"
      ]
     },
     "execution_count": 9,
     "metadata": {},
     "output_type": "execute_result"
    }
   ],
   "source": [
    "df.mths_since_last_delinq.isna().sum()"
   ]
  },
  {
   "cell_type": "code",
   "execution_count": 10,
   "metadata": {},
   "outputs": [
    {
     "data": {
      "text/plain": [
       "array(['2023-01-07T00:00:00.000000000', '2023-08-13T00:00:00.000000000',\n",
       "                                 'NaT', '2023-06-13T00:00:00.000000000',\n",
       "       '2023-09-10T00:00:00.000000000', '2023-01-12T00:00:00.000000000',\n",
       "       '2023-07-11T00:00:00.000000000', '1999-01-01T00:00:00.000000000',\n",
       "       '2023-09-13T00:00:00.000000000', '2023-11-12T00:00:00.000000000',\n",
       "       '2023-02-11T00:00:00.000000000', '2023-02-12T00:00:00.000000000',\n",
       "       '2023-10-08T00:00:00.000000000', '2023-08-10T00:00:00.000000000',\n",
       "       '2023-07-16T00:00:00.000000000', '2023-12-10T00:00:00.000000000',\n",
       "       '2023-07-12T00:00:00.000000000', '2023-05-13T00:00:00.000000000',\n",
       "       '2023-11-09T00:00:00.000000000', '2023-01-10T00:00:00.000000000',\n",
       "       '2023-10-09T00:00:00.000000000', '2023-04-11T00:00:00.000000000',\n",
       "       '2023-02-13T00:00:00.000000000', '2023-08-09T00:00:00.000000000',\n",
       "       '2023-01-13T00:00:00.000000000', '2023-11-15T00:00:00.000000000',\n",
       "       '2023-09-11T00:00:00.000000000', '2023-12-11T00:00:00.000000000',\n",
       "       '2023-06-10T00:00:00.000000000', '2023-06-09T00:00:00.000000000',\n",
       "       '2023-11-10T00:00:00.000000000', '2023-03-11T00:00:00.000000000',\n",
       "       '2023-12-13T00:00:00.000000000', '2023-02-10T00:00:00.000000000',\n",
       "       '2023-11-13T00:00:00.000000000', '2023-09-12T00:00:00.000000000',\n",
       "       '2023-03-13T00:00:00.000000000', '2023-09-09T00:00:00.000000000',\n",
       "       '2023-01-16T00:00:00.000000000', '2023-06-11T00:00:00.000000000',\n",
       "       '2023-12-14T00:00:00.000000000', '2023-08-11T00:00:00.000000000',\n",
       "       '2023-05-10T00:00:00.000000000', '2023-07-10T00:00:00.000000000',\n",
       "       '2023-03-14T00:00:00.000000000', '2023-06-12T00:00:00.000000000',\n",
       "       '2023-12-12T00:00:00.000000000', '2023-03-12T00:00:00.000000000',\n",
       "       '2023-01-09T00:00:00.000000000', '2023-05-08T00:00:00.000000000',\n",
       "       '2023-04-12T00:00:00.000000000', '2023-11-08T00:00:00.000000000',\n",
       "       '2023-08-12T00:00:00.000000000', '2023-12-08T00:00:00.000000000',\n",
       "       '2023-07-13T00:00:00.000000000', '2023-10-12T00:00:00.000000000',\n",
       "       '2023-01-11T00:00:00.000000000', '2023-03-10T00:00:00.000000000',\n",
       "       '2023-11-11T00:00:00.000000000', '2023-10-15T00:00:00.000000000',\n",
       "       '2023-04-13T00:00:00.000000000', '2023-05-12T00:00:00.000000000',\n",
       "       '2023-12-09T00:00:00.000000000', '2023-10-10T00:00:00.000000000',\n",
       "       '2023-05-09T00:00:00.000000000', '2023-10-11T00:00:00.000000000',\n",
       "       '2023-07-15T00:00:00.000000000', '2023-01-08T00:00:00.000000000',\n",
       "       '2023-05-11T00:00:00.000000000', '2023-07-09T00:00:00.000000000',\n",
       "       '2023-11-14T00:00:00.000000000', '2023-09-08T00:00:00.000000000',\n",
       "       '2023-04-09T00:00:00.000000000', '2023-04-08T00:00:00.000000000',\n",
       "       '2023-10-13T00:00:00.000000000', '2023-05-15T00:00:00.000000000',\n",
       "       '2023-04-10T00:00:00.000000000', '2023-05-14T00:00:00.000000000',\n",
       "       '2023-02-14T00:00:00.000000000', '2023-08-15T00:00:00.000000000',\n",
       "       '2023-01-14T00:00:00.000000000', '2023-07-08T00:00:00.000000000',\n",
       "       '2023-01-15T00:00:00.000000000', '2023-03-09T00:00:00.000000000',\n",
       "       '2023-03-15T00:00:00.000000000', '2023-02-08T00:00:00.000000000',\n",
       "       '2023-04-14T00:00:00.000000000', '2023-08-14T00:00:00.000000000',\n",
       "       '2023-03-08T00:00:00.000000000', '2023-06-15T00:00:00.000000000',\n",
       "       '2023-02-15T00:00:00.000000000', '2023-02-16T00:00:00.000000000',\n",
       "       '2023-09-15T00:00:00.000000000', '2023-08-08T00:00:00.000000000',\n",
       "       '2023-04-15T00:00:00.000000000', '2023-07-14T00:00:00.000000000',\n",
       "       '2023-12-15T00:00:00.000000000', '2023-06-14T00:00:00.000000000',\n",
       "       '2023-06-08T00:00:00.000000000', '2023-06-16T00:00:00.000000000',\n",
       "       '2023-12-07T00:00:00.000000000', '2023-02-09T00:00:00.000000000',\n",
       "       '2023-09-14T00:00:00.000000000', '2023-10-14T00:00:00.000000000'],\n",
       "      dtype='datetime64[ns]')"
      ]
     },
     "execution_count": 10,
     "metadata": {},
     "output_type": "execute_result"
    }
   ],
   "source": [
    "df.next_pymnt_d.unique()"
   ]
  },
  {
   "cell_type": "code",
   "execution_count": 11,
   "metadata": {},
   "outputs": [
    {
     "data": {
      "text/plain": [
       "35097"
      ]
     },
     "execution_count": 11,
     "metadata": {},
     "output_type": "execute_result"
    }
   ],
   "source": [
    "df.next_pymnt_d.isna().sum()"
   ]
  },
  {
   "cell_type": "code",
   "execution_count": 12,
   "metadata": {},
   "outputs": [
    {
     "data": {
      "text/plain": [
       "3"
      ]
     },
     "execution_count": 12,
     "metadata": {},
     "output_type": "execute_result"
    }
   ],
   "source": [
    "df.last_credit_pull_d.isna().sum()"
   ]
  },
  {
   "cell_type": "code",
   "execution_count": 13,
   "metadata": {},
   "outputs": [
    {
     "data": {
      "text/plain": [
       "0"
      ]
     },
     "execution_count": 13,
     "metadata": {},
     "output_type": "execute_result"
    }
   ],
   "source": [
    "df.repay_fail.isna().sum()"
   ]
  },
  {
   "cell_type": "code",
   "execution_count": 14,
   "metadata": {},
   "outputs": [
    {
     "data": {
      "text/plain": [
       "<AxesSubplot:>"
      ]
     },
     "execution_count": 14,
     "metadata": {},
     "output_type": "execute_result"
    },
    {
     "data": {
      "image/png": "[encoded data removed]",
      "text/plain": [
       "<Figure size 640x480 with 1 Axes>"
      ]
     },
     "metadata": {},
     "output_type": "display_data"
    }
   ],
   "source": [
    "import matplotlib.pyplot as plt\n",
    "plot_df = df.repay_fail.value_counts()\n",
    "plot_df.plot(kind=\"bar\")"
   ]
  },
  {
   "cell_type": "code",
   "execution_count": 15,
   "metadata": {},
   "outputs": [
    {
     "data": {
      "text/html": [
       "<style type=\"text/css\">\n",
       "#T_ef37a_row0_col0, #T_ef37a_row0_col3, #T_ef37a_row1_col0, #T_ef37a_row1_col1, #T_ef37a_row1_col2, #T_ef37a_row1_col3, #T_ef37a_row1_col4, #T_ef37a_row1_col5, #T_ef37a_row1_col6, #T_ef37a_row2_col0, #T_ef37a_row3_col0, #T_ef37a_row4_col0, #T_ef37a_row5_col0, #T_ef37a_row6_col0, #T_ef37a_row7_col0, #T_ef37a_row7_col7, #T_ef37a_row8_col0, #T_ef37a_row9_col0, #T_ef37a_row10_col0, #T_ef37a_row12_col0, #T_ef37a_row13_col0, #T_ef37a_row14_col0, #T_ef37a_row15_col0, #T_ef37a_row15_col3, #T_ef37a_row16_col0, #T_ef37a_row17_col0, #T_ef37a_row18_col0, #T_ef37a_row19_col0, #T_ef37a_row20_col0, #T_ef37a_row21_col0 {\n",
       "  background-color: #023858;\n",
       "  color: #f1f1f1;\n",
       "}\n",
       "#T_ef37a_row0_col1 {\n",
       "  background-color: #0566a0;\n",
       "  color: #f1f1f1;\n",
       "}\n",
       "#T_ef37a_row0_col2, #T_ef37a_row0_col5 {\n",
       "  background-color: #056aa6;\n",
       "  color: #f1f1f1;\n",
       "}\n",
       "#T_ef37a_row0_col4 {\n",
       "  background-color: #056ba7;\n",
       "  color: #f1f1f1;\n",
       "}\n",
       "#T_ef37a_row0_col6 {\n",
       "  background-color: #0567a2;\n",
       "  color: #f1f1f1;\n",
       "}\n",
       "#T_ef37a_row0_col7 {\n",
       "  background-color: #e0deed;\n",
       "  color: #000000;\n",
       "}\n",
       "#T_ef37a_row1_col7 {\n",
       "  background-color: #d7d6e9;\n",
       "  color: #000000;\n",
       "}\n",
       "#T_ef37a_row2_col1, #T_ef37a_row2_col5, #T_ef37a_row2_col6, #T_ef37a_row3_col1, #T_ef37a_row3_col6, #T_ef37a_row4_col1, #T_ef37a_row4_col6, #T_ef37a_row14_col1, #T_ef37a_row14_col6, #T_ef37a_row16_col1, #T_ef37a_row16_col5, #T_ef37a_row16_col6, #T_ef37a_row17_col1, #T_ef37a_row17_col6, #T_ef37a_row18_col6, #T_ef37a_row20_col2 {\n",
       "  background-color: #fdf5fa;\n",
       "  color: #000000;\n",
       "}\n",
       "#T_ef37a_row2_col2, #T_ef37a_row3_col2, #T_ef37a_row4_col2, #T_ef37a_row18_col2 {\n",
       "  background-color: #fbf4f9;\n",
       "  color: #000000;\n",
       "}\n",
       "#T_ef37a_row2_col3, #T_ef37a_row3_col3, #T_ef37a_row4_col3, #T_ef37a_row5_col1, #T_ef37a_row5_col2, #T_ef37a_row5_col3, #T_ef37a_row5_col4, #T_ef37a_row5_col5, #T_ef37a_row5_col6, #T_ef37a_row5_col7, #T_ef37a_row6_col1, #T_ef37a_row6_col2, #T_ef37a_row6_col3, #T_ef37a_row6_col4, #T_ef37a_row6_col5, #T_ef37a_row6_col6, #T_ef37a_row6_col7, #T_ef37a_row7_col3, #T_ef37a_row8_col1, #T_ef37a_row8_col2, #T_ef37a_row8_col3, #T_ef37a_row8_col4, #T_ef37a_row8_col5, #T_ef37a_row8_col6, #T_ef37a_row8_col7, #T_ef37a_row9_col1, #T_ef37a_row9_col2, #T_ef37a_row9_col3, #T_ef37a_row9_col4, #T_ef37a_row9_col5, #T_ef37a_row9_col6, #T_ef37a_row9_col7, #T_ef37a_row10_col1, #T_ef37a_row10_col2, #T_ef37a_row10_col3, #T_ef37a_row10_col4, #T_ef37a_row10_col5, #T_ef37a_row10_col6, #T_ef37a_row10_col7, #T_ef37a_row11_col0, #T_ef37a_row11_col1, #T_ef37a_row11_col2, #T_ef37a_row11_col3, #T_ef37a_row11_col4, #T_ef37a_row11_col5, #T_ef37a_row11_col6, #T_ef37a_row11_col7, #T_ef37a_row12_col1, #T_ef37a_row12_col2, #T_ef37a_row12_col3, #T_ef37a_row12_col4, #T_ef37a_row12_col5, #T_ef37a_row12_col6, #T_ef37a_row12_col7, #T_ef37a_row13_col1, #T_ef37a_row13_col2, #T_ef37a_row13_col3, #T_ef37a_row13_col4, #T_ef37a_row13_col5, #T_ef37a_row13_col6, #T_ef37a_row13_col7, #T_ef37a_row14_col3, #T_ef37a_row15_col1, #T_ef37a_row15_col2, #T_ef37a_row15_col4, #T_ef37a_row15_col5, #T_ef37a_row15_col6, #T_ef37a_row15_col7, #T_ef37a_row16_col3, #T_ef37a_row17_col3, #T_ef37a_row18_col3, #T_ef37a_row19_col1, #T_ef37a_row19_col3, #T_ef37a_row19_col4, #T_ef37a_row19_col5, #T_ef37a_row19_col6, #T_ef37a_row20_col1, #T_ef37a_row20_col3, #T_ef37a_row20_col4, #T_ef37a_row20_col5, #T_ef37a_row20_col6, #T_ef37a_row21_col1, #T_ef37a_row21_col2, #T_ef37a_row21_col3, #T_ef37a_row21_col4, #T_ef37a_row21_col5, #T_ef37a_row21_col6, #T_ef37a_row21_col7 {\n",
       "  background-color: #fff7fb;\n",
       "  color: #000000;\n",
       "}\n",
       "#T_ef37a_row2_col4, #T_ef37a_row3_col4, #T_ef37a_row3_col5, #T_ef37a_row4_col5, #T_ef37a_row14_col5, #T_ef37a_row16_col4, #T_ef37a_row16_col7, #T_ef37a_row17_col5, #T_ef37a_row17_col7, #T_ef37a_row18_col1, #T_ef37a_row18_col5, #T_ef37a_row19_col2 {\n",
       "  background-color: #fef6fa;\n",
       "  color: #000000;\n",
       "}\n",
       "#T_ef37a_row2_col7, #T_ef37a_row3_col7, #T_ef37a_row4_col4, #T_ef37a_row4_col7, #T_ef37a_row14_col4, #T_ef37a_row17_col4, #T_ef37a_row18_col4, #T_ef37a_row18_col7, #T_ef37a_row19_col7, #T_ef37a_row20_col7 {\n",
       "  background-color: #fef6fb;\n",
       "  color: #000000;\n",
       "}\n",
       "#T_ef37a_row7_col1 {\n",
       "  background-color: #f2ecf5;\n",
       "  color: #000000;\n",
       "}\n",
       "#T_ef37a_row7_col2 {\n",
       "  background-color: #d4d4e8;\n",
       "  color: #000000;\n",
       "}\n",
       "#T_ef37a_row7_col4 {\n",
       "  background-color: #f5eff6;\n",
       "  color: #000000;\n",
       "}\n",
       "#T_ef37a_row7_col5 {\n",
       "  background-color: #f4eef6;\n",
       "  color: #000000;\n",
       "}\n",
       "#T_ef37a_row7_col6, #T_ef37a_row14_col2 {\n",
       "  background-color: #f3edf5;\n",
       "  color: #000000;\n",
       "}\n",
       "#T_ef37a_row14_col7 {\n",
       "  background-color: #dbdaeb;\n",
       "  color: #000000;\n",
       "}\n",
       "#T_ef37a_row16_col2, #T_ef37a_row17_col2 {\n",
       "  background-color: #faf3f9;\n",
       "  color: #000000;\n",
       "}\n",
       "</style>\n",
       "<table id=\"T_ef37a_\">\n",
       "  <thead>\n",
       "    <tr>\n",
       "      <th class=\"blank level0\" >&nbsp;</th>\n",
       "      <th class=\"col_heading level0 col0\" >count</th>\n",
       "      <th class=\"col_heading level0 col1\" >mean</th>\n",
       "      <th class=\"col_heading level0 col2\" >std</th>\n",
       "      <th class=\"col_heading level0 col3\" >min</th>\n",
       "      <th class=\"col_heading level0 col4\" >25%</th>\n",
       "      <th class=\"col_heading level0 col5\" >50%</th>\n",
       "      <th class=\"col_heading level0 col6\" >75%</th>\n",
       "      <th class=\"col_heading level0 col7\" >max</th>\n",
       "    </tr>\n",
       "  </thead>\n",
       "  <tbody>\n",
       "    <tr>\n",
       "      <th id=\"T_ef37a_level0_row0\" class=\"row_heading level0 row0\" >id</th>\n",
       "      <td id=\"T_ef37a_row0_col0\" class=\"data row0 col0\" >38480.000000</td>\n",
       "      <td id=\"T_ef37a_row0_col1\" class=\"data row0 col1\" >664997.930016</td>\n",
       "      <td id=\"T_ef37a_row0_col2\" class=\"data row0 col2\" >219232.159934</td>\n",
       "      <td id=\"T_ef37a_row0_col3\" class=\"data row0 col3\" >1.000000</td>\n",
       "      <td id=\"T_ef37a_row0_col4\" class=\"data row0 col4\" >498364.500000</td>\n",
       "      <td id=\"T_ef37a_row0_col5\" class=\"data row0 col5\" >644319.500000</td>\n",
       "      <td id=\"T_ef37a_row0_col6\" class=\"data row0 col6\" >826560.750000</td>\n",
       "      <td id=\"T_ef37a_row0_col7\" class=\"data row0 col7\" >1077430.000000</td>\n",
       "    </tr>\n",
       "    <tr>\n",
       "      <th id=\"T_ef37a_level0_row1\" class=\"row_heading level0 row1\" >member_id</th>\n",
       "      <td id=\"T_ef37a_row1_col0\" class=\"data row1 col0\" >38480.000000</td>\n",
       "      <td id=\"T_ef37a_row1_col1\" class=\"data row1 col1\" >826189.854288</td>\n",
       "      <td id=\"T_ef37a_row1_col2\" class=\"data row1 col2\" >279353.137600</td>\n",
       "      <td id=\"T_ef37a_row1_col3\" class=\"data row1 col3\" >1.000000</td>\n",
       "      <td id=\"T_ef37a_row1_col4\" class=\"data row1 col4\" >638462.000000</td>\n",
       "      <td id=\"T_ef37a_row1_col5\" class=\"data row1 col5\" >824254.500000</td>\n",
       "      <td id=\"T_ef37a_row1_col6\" class=\"data row1 col6\" >1034706.500000</td>\n",
       "      <td id=\"T_ef37a_row1_col7\" class=\"data row1 col7\" >1314167.000000</td>\n",
       "    </tr>\n",
       "    <tr>\n",
       "      <th id=\"T_ef37a_level0_row2\" class=\"row_heading level0 row2\" >loan_amnt</th>\n",
       "      <td id=\"T_ef37a_row2_col0\" class=\"data row2 col0\" >38479.000000</td>\n",
       "      <td id=\"T_ef37a_row2_col1\" class=\"data row2 col1\" >11094.727644</td>\n",
       "      <td id=\"T_ef37a_row2_col2\" class=\"data row2 col2\" >7405.416042</td>\n",
       "      <td id=\"T_ef37a_row2_col3\" class=\"data row2 col3\" >0.000000</td>\n",
       "      <td id=\"T_ef37a_row2_col4\" class=\"data row2 col4\" >5200.000000</td>\n",
       "      <td id=\"T_ef37a_row2_col5\" class=\"data row2 col5\" >9750.000000</td>\n",
       "      <td id=\"T_ef37a_row2_col6\" class=\"data row2 col6\" >15000.000000</td>\n",
       "      <td id=\"T_ef37a_row2_col7\" class=\"data row2 col7\" >35000.000000</td>\n",
       "    </tr>\n",
       "    <tr>\n",
       "      <th id=\"T_ef37a_level0_row3\" class=\"row_heading level0 row3\" >funded_amnt</th>\n",
       "      <td id=\"T_ef37a_row3_col0\" class=\"data row3 col0\" >38479.000000</td>\n",
       "      <td id=\"T_ef37a_row3_col1\" class=\"data row3 col1\" >10831.856337</td>\n",
       "      <td id=\"T_ef37a_row3_col2\" class=\"data row3 col2\" >7146.853682</td>\n",
       "      <td id=\"T_ef37a_row3_col3\" class=\"data row3 col3\" >0.000000</td>\n",
       "      <td id=\"T_ef37a_row3_col4\" class=\"data row3 col4\" >5100.000000</td>\n",
       "      <td id=\"T_ef37a_row3_col5\" class=\"data row3 col5\" >9600.000000</td>\n",
       "      <td id=\"T_ef37a_row3_col6\" class=\"data row3 col6\" >15000.000000</td>\n",
       "      <td id=\"T_ef37a_row3_col7\" class=\"data row3 col7\" >35000.000000</td>\n",
       "    </tr>\n",
       "    <tr>\n",
       "      <th id=\"T_ef37a_level0_row4\" class=\"row_heading level0 row4\" >funded_amnt_inv</th>\n",
       "      <td id=\"T_ef37a_row4_col0\" class=\"data row4 col0\" >38479.000000</td>\n",
       "      <td id=\"T_ef37a_row4_col1\" class=\"data row4 col1\" >10150.141518</td>\n",
       "      <td id=\"T_ef37a_row4_col2\" class=\"data row4 col2\" >7128.026828</td>\n",
       "      <td id=\"T_ef37a_row4_col3\" class=\"data row4 col3\" >0.000000</td>\n",
       "      <td id=\"T_ef37a_row4_col4\" class=\"data row4 col4\" >4950.000000</td>\n",
       "      <td id=\"T_ef37a_row4_col5\" class=\"data row4 col5\" >8495.792749</td>\n",
       "      <td id=\"T_ef37a_row4_col6\" class=\"data row4 col6\" >14000.000000</td>\n",
       "      <td id=\"T_ef37a_row4_col7\" class=\"data row4 col7\" >35000.000000</td>\n",
       "    </tr>\n",
       "    <tr>\n",
       "      <th id=\"T_ef37a_level0_row5\" class=\"row_heading level0 row5\" >int_rate</th>\n",
       "      <td id=\"T_ef37a_row5_col0\" class=\"data row5 col0\" >38480.000000</td>\n",
       "      <td id=\"T_ef37a_row5_col1\" class=\"data row5 col1\" >12.164300</td>\n",
       "      <td id=\"T_ef37a_row5_col2\" class=\"data row5 col2\" >3.737440</td>\n",
       "      <td id=\"T_ef37a_row5_col3\" class=\"data row5 col3\" >0.000000</td>\n",
       "      <td id=\"T_ef37a_row5_col4\" class=\"data row5 col4\" >9.620000</td>\n",
       "      <td id=\"T_ef37a_row5_col5\" class=\"data row5 col5\" >11.990000</td>\n",
       "      <td id=\"T_ef37a_row5_col6\" class=\"data row5 col6\" >14.720000</td>\n",
       "      <td id=\"T_ef37a_row5_col7\" class=\"data row5 col7\" >100.990000</td>\n",
       "    </tr>\n",
       "    <tr>\n",
       "      <th id=\"T_ef37a_level0_row6\" class=\"row_heading level0 row6\" >installment</th>\n",
       "      <td id=\"T_ef37a_row6_col0\" class=\"data row6 col0\" >38479.000000</td>\n",
       "      <td id=\"T_ef37a_row6_col1\" class=\"data row6 col1\" >323.163255</td>\n",
       "      <td id=\"T_ef37a_row6_col2\" class=\"data row6 col2\" >209.089097</td>\n",
       "      <td id=\"T_ef37a_row6_col3\" class=\"data row6 col3\" >0.000000</td>\n",
       "      <td id=\"T_ef37a_row6_col4\" class=\"data row6 col4\" >165.740000</td>\n",
       "      <td id=\"T_ef37a_row6_col5\" class=\"data row6 col5\" >277.980000</td>\n",
       "      <td id=\"T_ef37a_row6_col6\" class=\"data row6 col6\" >429.350000</td>\n",
       "      <td id=\"T_ef37a_row6_col7\" class=\"data row6 col7\" >1305.190000</td>\n",
       "    </tr>\n",
       "    <tr>\n",
       "      <th id=\"T_ef37a_level0_row7\" class=\"row_heading level0 row7\" >annual_inc</th>\n",
       "      <td id=\"T_ef37a_row7_col0\" class=\"data row7 col0\" >38478.000000</td>\n",
       "      <td id=\"T_ef37a_row7_col1\" class=\"data row7 col1\" >68995.308917</td>\n",
       "      <td id=\"T_ef37a_row7_col2\" class=\"data row7 col2\" >64476.388744</td>\n",
       "      <td id=\"T_ef37a_row7_col3\" class=\"data row7 col3\" >0.000000</td>\n",
       "      <td id=\"T_ef37a_row7_col4\" class=\"data row7 col4\" >40000.000000</td>\n",
       "      <td id=\"T_ef37a_row7_col5\" class=\"data row7 col5\" >58650.000000</td>\n",
       "      <td id=\"T_ef37a_row7_col6\" class=\"data row7 col6\" >82000.000000</td>\n",
       "      <td id=\"T_ef37a_row7_col7\" class=\"data row7 col7\" >6000000.000000</td>\n",
       "    </tr>\n",
       "    <tr>\n",
       "      <th id=\"T_ef37a_level0_row8\" class=\"row_heading level0 row8\" >dti</th>\n",
       "      <td id=\"T_ef37a_row8_col0\" class=\"data row8 col0\" >38480.000000</td>\n",
       "      <td id=\"T_ef37a_row8_col1\" class=\"data row8 col1\" >13.378119</td>\n",
       "      <td id=\"T_ef37a_row8_col2\" class=\"data row8 col2\" >6.744356</td>\n",
       "      <td id=\"T_ef37a_row8_col3\" class=\"data row8 col3\" >0.000000</td>\n",
       "      <td id=\"T_ef37a_row8_col4\" class=\"data row8 col4\" >8.200000</td>\n",
       "      <td id=\"T_ef37a_row8_col5\" class=\"data row8 col5\" >13.485000</td>\n",
       "      <td id=\"T_ef37a_row8_col6\" class=\"data row8 col6\" >18.690000</td>\n",
       "      <td id=\"T_ef37a_row8_col7\" class=\"data row8 col7\" >100.000000</td>\n",
       "    </tr>\n",
       "    <tr>\n",
       "      <th id=\"T_ef37a_level0_row9\" class=\"row_heading level0 row9\" >delinq_2yrs</th>\n",
       "      <td id=\"T_ef37a_row9_col0\" class=\"data row9 col0\" >38479.000000</td>\n",
       "      <td id=\"T_ef37a_row9_col1\" class=\"data row9 col1\" >0.151927</td>\n",
       "      <td id=\"T_ef37a_row9_col2\" class=\"data row9 col2\" >0.507592</td>\n",
       "      <td id=\"T_ef37a_row9_col3\" class=\"data row9 col3\" >0.000000</td>\n",
       "      <td id=\"T_ef37a_row9_col4\" class=\"data row9 col4\" >0.000000</td>\n",
       "      <td id=\"T_ef37a_row9_col5\" class=\"data row9 col5\" >0.000000</td>\n",
       "      <td id=\"T_ef37a_row9_col6\" class=\"data row9 col6\" >0.000000</td>\n",
       "      <td id=\"T_ef37a_row9_col7\" class=\"data row9 col7\" >11.000000</td>\n",
       "    </tr>\n",
       "    <tr>\n",
       "      <th id=\"T_ef37a_level0_row10\" class=\"row_heading level0 row10\" >inq_last_6mths</th>\n",
       "      <td id=\"T_ef37a_row10_col0\" class=\"data row10 col0\" >38479.000000</td>\n",
       "      <td id=\"T_ef37a_row10_col1\" class=\"data row10 col1\" >1.083942</td>\n",
       "      <td id=\"T_ef37a_row10_col2\" class=\"data row10 col2\" >1.534814</td>\n",
       "      <td id=\"T_ef37a_row10_col3\" class=\"data row10 col3\" >0.000000</td>\n",
       "      <td id=\"T_ef37a_row10_col4\" class=\"data row10 col4\" >0.000000</td>\n",
       "      <td id=\"T_ef37a_row10_col5\" class=\"data row10 col5\" >1.000000</td>\n",
       "      <td id=\"T_ef37a_row10_col6\" class=\"data row10 col6\" >2.000000</td>\n",
       "      <td id=\"T_ef37a_row10_col7\" class=\"data row10 col7\" >33.000000</td>\n",
       "    </tr>\n",
       "    <tr>\n",
       "      <th id=\"T_ef37a_level0_row11\" class=\"row_heading level0 row11\" >mths_since_last_delinq</th>\n",
       "      <td id=\"T_ef37a_row11_col0\" class=\"data row11 col0\" >14117.000000</td>\n",
       "      <td id=\"T_ef37a_row11_col1\" class=\"data row11 col1\" >35.009846</td>\n",
       "      <td id=\"T_ef37a_row11_col2\" class=\"data row11 col2\" >22.426843</td>\n",
       "      <td id=\"T_ef37a_row11_col3\" class=\"data row11 col3\" >0.000000</td>\n",
       "      <td id=\"T_ef37a_row11_col4\" class=\"data row11 col4\" >17.000000</td>\n",
       "      <td id=\"T_ef37a_row11_col5\" class=\"data row11 col5\" >33.000000</td>\n",
       "      <td id=\"T_ef37a_row11_col6\" class=\"data row11 col6\" >51.000000</td>\n",
       "      <td id=\"T_ef37a_row11_col7\" class=\"data row11 col7\" >120.000000</td>\n",
       "    </tr>\n",
       "    <tr>\n",
       "      <th id=\"T_ef37a_level0_row12\" class=\"row_heading level0 row12\" >open_acc</th>\n",
       "      <td id=\"T_ef37a_row12_col0\" class=\"data row12 col0\" >38479.000000</td>\n",
       "      <td id=\"T_ef37a_row12_col1\" class=\"data row12 col1\" >9.342966</td>\n",
       "      <td id=\"T_ef37a_row12_col2\" class=\"data row12 col2\" >4.498075</td>\n",
       "      <td id=\"T_ef37a_row12_col3\" class=\"data row12 col3\" >0.000000</td>\n",
       "      <td id=\"T_ef37a_row12_col4\" class=\"data row12 col4\" >6.000000</td>\n",
       "      <td id=\"T_ef37a_row12_col5\" class=\"data row12 col5\" >9.000000</td>\n",
       "      <td id=\"T_ef37a_row12_col6\" class=\"data row12 col6\" >12.000000</td>\n",
       "      <td id=\"T_ef37a_row12_col7\" class=\"data row12 col7\" >47.000000</td>\n",
       "    </tr>\n",
       "    <tr>\n",
       "      <th id=\"T_ef37a_level0_row13\" class=\"row_heading level0 row13\" >pub_rec</th>\n",
       "      <td id=\"T_ef37a_row13_col0\" class=\"data row13 col0\" >38479.000000</td>\n",
       "      <td id=\"T_ef37a_row13_col1\" class=\"data row13 col1\" >0.057902</td>\n",
       "      <td id=\"T_ef37a_row13_col2\" class=\"data row13 col2\" >0.245707</td>\n",
       "      <td id=\"T_ef37a_row13_col3\" class=\"data row13 col3\" >0.000000</td>\n",
       "      <td id=\"T_ef37a_row13_col4\" class=\"data row13 col4\" >0.000000</td>\n",
       "      <td id=\"T_ef37a_row13_col5\" class=\"data row13 col5\" >0.000000</td>\n",
       "      <td id=\"T_ef37a_row13_col6\" class=\"data row13 col6\" >0.000000</td>\n",
       "      <td id=\"T_ef37a_row13_col7\" class=\"data row13 col7\" >5.000000</td>\n",
       "    </tr>\n",
       "    <tr>\n",
       "      <th id=\"T_ef37a_level0_row14\" class=\"row_heading level0 row14\" >revol_bal</th>\n",
       "      <td id=\"T_ef37a_row14_col0\" class=\"data row14 col0\" >38476.000000</td>\n",
       "      <td id=\"T_ef37a_row14_col1\" class=\"data row14 col1\" >14289.866280</td>\n",
       "      <td id=\"T_ef37a_row14_col2\" class=\"data row14 col2\" >21941.377270</td>\n",
       "      <td id=\"T_ef37a_row14_col3\" class=\"data row14 col3\" >0.000000</td>\n",
       "      <td id=\"T_ef37a_row14_col4\" class=\"data row14 col4\" >3639.750000</td>\n",
       "      <td id=\"T_ef37a_row14_col5\" class=\"data row14 col5\" >8839.500000</td>\n",
       "      <td id=\"T_ef37a_row14_col6\" class=\"data row14 col6\" >17265.500000</td>\n",
       "      <td id=\"T_ef37a_row14_col7\" class=\"data row14 col7\" >1207359.000000</td>\n",
       "    </tr>\n",
       "    <tr>\n",
       "      <th id=\"T_ef37a_level0_row15\" class=\"row_heading level0 row15\" >total_acc</th>\n",
       "      <td id=\"T_ef37a_row15_col0\" class=\"data row15 col0\" >38479.000000</td>\n",
       "      <td id=\"T_ef37a_row15_col1\" class=\"data row15 col1\" >22.108501</td>\n",
       "      <td id=\"T_ef37a_row15_col2\" class=\"data row15 col2\" >11.588602</td>\n",
       "      <td id=\"T_ef37a_row15_col3\" class=\"data row15 col3\" >1.000000</td>\n",
       "      <td id=\"T_ef37a_row15_col4\" class=\"data row15 col4\" >13.000000</td>\n",
       "      <td id=\"T_ef37a_row15_col5\" class=\"data row15 col5\" >20.000000</td>\n",
       "      <td id=\"T_ef37a_row15_col6\" class=\"data row15 col6\" >29.000000</td>\n",
       "      <td id=\"T_ef37a_row15_col7\" class=\"data row15 col7\" >90.000000</td>\n",
       "    </tr>\n",
       "    <tr>\n",
       "      <th id=\"T_ef37a_level0_row16\" class=\"row_heading level0 row16\" >total_pymnt</th>\n",
       "      <td id=\"T_ef37a_row16_col0\" class=\"data row16 col0\" >38479.000000</td>\n",
       "      <td id=\"T_ef37a_row16_col1\" class=\"data row16 col1\" >11980.696892</td>\n",
       "      <td id=\"T_ef37a_row16_col2\" class=\"data row16 col2\" >9006.505205</td>\n",
       "      <td id=\"T_ef37a_row16_col3\" class=\"data row16 col3\" >0.000000</td>\n",
       "      <td id=\"T_ef37a_row16_col4\" class=\"data row16 col4\" >5463.099238</td>\n",
       "      <td id=\"T_ef37a_row16_col5\" class=\"data row16 col5\" >9673.221341</td>\n",
       "      <td id=\"T_ef37a_row16_col6\" class=\"data row16 col6\" >16402.394995</td>\n",
       "      <td id=\"T_ef37a_row16_col7\" class=\"data row16 col7\" >58563.679930</td>\n",
       "    </tr>\n",
       "    <tr>\n",
       "      <th id=\"T_ef37a_level0_row17\" class=\"row_heading level0 row17\" >total_pymnt_inv</th>\n",
       "      <td id=\"T_ef37a_row17_col0\" class=\"data row17 col0\" >38479.000000</td>\n",
       "      <td id=\"T_ef37a_row17_col1\" class=\"data row17 col1\" >11274.519569</td>\n",
       "      <td id=\"T_ef37a_row17_col2\" class=\"data row17 col2\" >8946.229941</td>\n",
       "      <td id=\"T_ef37a_row17_col3\" class=\"data row17 col3\" >0.000000</td>\n",
       "      <td id=\"T_ef37a_row17_col4\" class=\"data row17 col4\" >4811.735000</td>\n",
       "      <td id=\"T_ef37a_row17_col5\" class=\"data row17 col5\" >8953.240000</td>\n",
       "      <td id=\"T_ef37a_row17_col6\" class=\"data row17 col6\" >15486.925000</td>\n",
       "      <td id=\"T_ef37a_row17_col7\" class=\"data row17 col7\" >58563.680000</td>\n",
       "    </tr>\n",
       "    <tr>\n",
       "      <th id=\"T_ef37a_level0_row18\" class=\"row_heading level0 row18\" >total_rec_prncp</th>\n",
       "      <td id=\"T_ef37a_row18_col0\" class=\"data row18 col0\" >38479.000000</td>\n",
       "      <td id=\"T_ef37a_row18_col1\" class=\"data row18 col1\" >9646.412705</td>\n",
       "      <td id=\"T_ef37a_row18_col2\" class=\"data row18 col2\" >7051.828302</td>\n",
       "      <td id=\"T_ef37a_row18_col3\" class=\"data row18 col3\" >0.000000</td>\n",
       "      <td id=\"T_ef37a_row18_col4\" class=\"data row18 col4\" >4400.000000</td>\n",
       "      <td id=\"T_ef37a_row18_col5\" class=\"data row18 col5\" >8000.000000</td>\n",
       "      <td id=\"T_ef37a_row18_col6\" class=\"data row18 col6\" >13315.100000</td>\n",
       "      <td id=\"T_ef37a_row18_col7\" class=\"data row18 col7\" >35000.020000</td>\n",
       "    </tr>\n",
       "    <tr>\n",
       "      <th id=\"T_ef37a_level0_row19\" class=\"row_heading level0 row19\" >total_rec_int</th>\n",
       "      <td id=\"T_ef37a_row19_col0\" class=\"data row19 col0\" >38479.000000</td>\n",
       "      <td id=\"T_ef37a_row19_col1\" class=\"data row19 col1\" >2232.768235</td>\n",
       "      <td id=\"T_ef37a_row19_col2\" class=\"data row19 col2\" >2570.177312</td>\n",
       "      <td id=\"T_ef37a_row19_col3\" class=\"data row19 col3\" >0.000000</td>\n",
       "      <td id=\"T_ef37a_row19_col4\" class=\"data row19 col4\" >657.700000</td>\n",
       "      <td id=\"T_ef37a_row19_col5\" class=\"data row19 col5\" >1335.090000</td>\n",
       "      <td id=\"T_ef37a_row19_col6\" class=\"data row19 col6\" >2795.020000</td>\n",
       "      <td id=\"T_ef37a_row19_col7\" class=\"data row19 col7\" >23611.100000</td>\n",
       "    </tr>\n",
       "    <tr>\n",
       "      <th id=\"T_ef37a_level0_row20\" class=\"row_heading level0 row20\" >last_pymnt_amnt</th>\n",
       "      <td id=\"T_ef37a_row20_col0\" class=\"data row20 col0\" >38479.000000</td>\n",
       "      <td id=\"T_ef37a_row20_col1\" class=\"data row20 col1\" >2614.441757</td>\n",
       "      <td id=\"T_ef37a_row20_col2\" class=\"data row20 col2\" >4391.969583</td>\n",
       "      <td id=\"T_ef37a_row20_col3\" class=\"data row20 col3\" >0.000000</td>\n",
       "      <td id=\"T_ef37a_row20_col4\" class=\"data row20 col4\" >212.010000</td>\n",
       "      <td id=\"T_ef37a_row20_col5\" class=\"data row20 col5\" >526.000000</td>\n",
       "      <td id=\"T_ef37a_row20_col6\" class=\"data row20 col6\" >3169.815000</td>\n",
       "      <td id=\"T_ef37a_row20_col7\" class=\"data row20 col7\" >36115.200000</td>\n",
       "    </tr>\n",
       "    <tr>\n",
       "      <th id=\"T_ef37a_level0_row21\" class=\"row_heading level0 row21\" >repay_fail</th>\n",
       "      <td id=\"T_ef37a_row21_col0\" class=\"data row21 col0\" >38480.000000</td>\n",
       "      <td id=\"T_ef37a_row21_col1\" class=\"data row21 col1\" >0.151481</td>\n",
       "      <td id=\"T_ef37a_row21_col2\" class=\"data row21 col2\" >0.358522</td>\n",
       "      <td id=\"T_ef37a_row21_col3\" class=\"data row21 col3\" >0.000000</td>\n",
       "      <td id=\"T_ef37a_row21_col4\" class=\"data row21 col4\" >0.000000</td>\n",
       "      <td id=\"T_ef37a_row21_col5\" class=\"data row21 col5\" >0.000000</td>\n",
       "      <td id=\"T_ef37a_row21_col6\" class=\"data row21 col6\" >0.000000</td>\n",
       "      <td id=\"T_ef37a_row21_col7\" class=\"data row21 col7\" >1.000000</td>\n",
       "    </tr>\n",
       "  </tbody>\n",
       "</table>\n"
      ],
      "text/plain": [
       "<pandas.io.formats.style.Styler at 0x21485b885c0>"
      ]
     },
     "execution_count": 15,
     "metadata": {},
     "output_type": "execute_result"
    }
   ],
   "source": [
    "df.describe().T.style.background_gradient()"
   ]
  },
  {
   "cell_type": "code",
   "execution_count": 16,
   "metadata": {},
   "outputs": [
    {
     "data": {
      "text/html": [
       "<div>\n",
       "<style scoped>\n",
       "    .dataframe tbody tr th:only-of-type {\n",
       "        vertical-align: middle;\n",
       "    }\n",
       "\n",
       "    .dataframe tbody tr th {\n",
       "        vertical-align: top;\n",
       "    }\n",
       "\n",
       "    .dataframe thead th {\n",
       "        text-align: right;\n",
       "    }\n",
       "</style>\n",
       "<table border=\"1\" class=\"dataframe\">\n",
       "  <thead>\n",
       "    <tr style=\"text-align: right;\">\n",
       "      <th></th>\n",
       "      <th>id</th>\n",
       "      <th>member_id</th>\n",
       "      <th>loan_amnt</th>\n",
       "      <th>funded_amnt</th>\n",
       "      <th>funded_amnt_inv</th>\n",
       "      <th>term</th>\n",
       "      <th>int_rate</th>\n",
       "      <th>installment</th>\n",
       "      <th>emp_length</th>\n",
       "      <th>home_ownership</th>\n",
       "      <th>...</th>\n",
       "      <th>total_acc</th>\n",
       "      <th>total_pymnt</th>\n",
       "      <th>total_pymnt_inv</th>\n",
       "      <th>total_rec_prncp</th>\n",
       "      <th>total_rec_int</th>\n",
       "      <th>last_pymnt_d</th>\n",
       "      <th>last_pymnt_amnt</th>\n",
       "      <th>next_pymnt_d</th>\n",
       "      <th>last_credit_pull_d</th>\n",
       "      <th>repay_fail</th>\n",
       "    </tr>\n",
       "  </thead>\n",
       "  <tbody>\n",
       "    <tr>\n",
       "      <th>2</th>\n",
       "      <td>2</td>\n",
       "      <td>2</td>\n",
       "      <td>0.0</td>\n",
       "      <td>0.0</td>\n",
       "      <td>0.0</td>\n",
       "      <td>36 months</td>\n",
       "      <td>0.0</td>\n",
       "      <td>0.0</td>\n",
       "      <td>&lt; 1 year</td>\n",
       "      <td>RENT</td>\n",
       "      <td>...</td>\n",
       "      <td>1.0</td>\n",
       "      <td>0.0</td>\n",
       "      <td>0.0</td>\n",
       "      <td>0.0</td>\n",
       "      <td>0.0</td>\n",
       "      <td>2023-01-07</td>\n",
       "      <td>0.0</td>\n",
       "      <td>2023-01-07</td>\n",
       "      <td>2023-01-07</td>\n",
       "      <td>1</td>\n",
       "    </tr>\n",
       "  </tbody>\n",
       "</table>\n",
       "<p>1 rows × 36 columns</p>\n",
       "</div>"
      ],
      "text/plain": [
       "   id  member_id  loan_amnt  funded_amnt  funded_amnt_inv       term  \\\n",
       "2   2          2        0.0          0.0              0.0  36 months   \n",
       "\n",
       "   int_rate  installment emp_length home_ownership  ...  total_acc  \\\n",
       "2       0.0          0.0   < 1 year           RENT  ...        1.0   \n",
       "\n",
       "  total_pymnt total_pymnt_inv total_rec_prncp total_rec_int last_pymnt_d  \\\n",
       "2         0.0             0.0             0.0           0.0   2023-01-07   \n",
       "\n",
       "  last_pymnt_amnt  next_pymnt_d  last_credit_pull_d repay_fail  \n",
       "2             0.0    2023-01-07          2023-01-07          1  \n",
       "\n",
       "[1 rows x 36 columns]"
      ]
     },
     "execution_count": 16,
     "metadata": {},
     "output_type": "execute_result"
    }
   ],
   "source": [
    "df.head(1)"
   ]
  },
  {
   "cell_type": "code",
   "execution_count": 17,
   "metadata": {},
   "outputs": [
    {
     "name": "stdout",
     "output_type": "stream",
     "text": [
      "<class 'pandas.core.frame.DataFrame'>\n",
      "Int64Index: 38480 entries, 2 to 38480\n",
      "Data columns (total 36 columns):\n",
      " #   Column                  Non-Null Count  Dtype         \n",
      "---  ------                  --------------  -----         \n",
      " 0   id                      38480 non-null  int64         \n",
      " 1   member_id               38480 non-null  int64         \n",
      " 2   loan_amnt               38479 non-null  float64       \n",
      " 3   funded_amnt             38479 non-null  float64       \n",
      " 4   funded_amnt_inv         38479 non-null  float64       \n",
      " 5   term                    38480 non-null  object        \n",
      " 6   int_rate                38480 non-null  float64       \n",
      " 7   installment             38479 non-null  float64       \n",
      " 8   emp_length              37487 non-null  object        \n",
      " 9   home_ownership          38480 non-null  object        \n",
      " 10  annual_inc              38478 non-null  float64       \n",
      " 11  verification_status     38480 non-null  object        \n",
      " 12  issue_d                 38480 non-null  datetime64[ns]\n",
      " 13  loan_status             38480 non-null  object        \n",
      " 14  purpose                 38480 non-null  object        \n",
      " 15  zip_code                38480 non-null  object        \n",
      " 16  addr_state              38480 non-null  object        \n",
      " 17  dti                     38480 non-null  float64       \n",
      " 18  delinq_2yrs             38479 non-null  float64       \n",
      " 19  earliest_cr_line        38480 non-null  datetime64[ns]\n",
      " 20  inq_last_6mths          38479 non-null  float64       \n",
      " 21  mths_since_last_delinq  14117 non-null  float64       \n",
      " 22  open_acc                38479 non-null  float64       \n",
      " 23  pub_rec                 38479 non-null  float64       \n",
      " 24  revol_bal               38476 non-null  float64       \n",
      " 25  revol_util              38421 non-null  object        \n",
      " 26  total_acc               38479 non-null  float64       \n",
      " 27  total_pymnt             38479 non-null  float64       \n",
      " 28  total_pymnt_inv         38479 non-null  float64       \n",
      " 29  total_rec_prncp         38479 non-null  float64       \n",
      " 30  total_rec_int           38479 non-null  float64       \n",
      " 31  last_pymnt_d            38409 non-null  datetime64[ns]\n",
      " 32  last_pymnt_amnt         38479 non-null  float64       \n",
      " 33  next_pymnt_d            3383 non-null   datetime64[ns]\n",
      " 34  last_credit_pull_d      38477 non-null  datetime64[ns]\n",
      " 35  repay_fail              38480 non-null  int64         \n",
      "dtypes: datetime64[ns](5), float64(19), int64(3), object(9)\n",
      "memory usage: 10.9+ MB\n"
     ]
    }
   ],
   "source": [
    "df.info()"
   ]
  },
  {
   "cell_type": "code",
   "execution_count": 18,
   "metadata": {},
   "outputs": [
    {
     "data": {
      "text/plain": [
       "Index(['id', 'member_id', 'loan_amnt', 'funded_amnt', 'funded_amnt_inv',\n",
       "       'term', 'int_rate', 'installment', 'emp_length', 'home_ownership',\n",
       "       'annual_inc', 'verification_status', 'issue_d', 'loan_status',\n",
       "       'purpose', 'zip_code', 'addr_state', 'dti', 'delinq_2yrs',\n",
       "       'earliest_cr_line', 'inq_last_6mths', 'mths_since_last_delinq',\n",
       "       'open_acc', 'pub_rec', 'revol_bal', 'revol_util', 'total_acc',\n",
       "       'total_pymnt', 'total_pymnt_inv', 'total_rec_prncp', 'total_rec_int',\n",
       "       'last_pymnt_d', 'last_pymnt_amnt', 'next_pymnt_d', 'last_credit_pull_d',\n",
       "       'repay_fail'],\n",
       "      dtype='object')"
      ]
     },
     "execution_count": 18,
     "metadata": {},
     "output_type": "execute_result"
    }
   ],
   "source": [
    "df.columns"
   ]
  },
  {
   "cell_type": "code",
   "execution_count": null,
   "metadata": {},
   "outputs": [],
   "source": []
  },
  {
   "cell_type": "code",
   "execution_count": 19,
   "metadata": {},
   "outputs": [],
   "source": [
    "x = df.drop(columns=['id','member_id','loan_amnt', 'funded_amnt_inv','issue_d', \n",
    "       'zip_code', 'addr_state', 'dti', 'delinq_2yrs','earliest_cr_line', 'inq_last_6mths', 'mths_since_last_delinq','open_acc', 'pub_rec', 'revol_bal', 'revol_util', 'total_acc',\n",
    "       'total_pymnt_inv', 'last_pymnt_d', 'next_pymnt_d', 'last_credit_pull_d'\n",
    "       ])\n"
   ]
  },
  {
   "cell_type": "code",
   "execution_count": 20,
   "metadata": {},
   "outputs": [
    {
     "data": {
      "text/plain": [
       "(38480, 15)"
      ]
     },
     "execution_count": 20,
     "metadata": {},
     "output_type": "execute_result"
    }
   ],
   "source": [
    "x.shape"
   ]
  },
  {
   "cell_type": "code",
   "execution_count": 21,
   "metadata": {},
   "outputs": [],
   "source": [
    "X= x"
   ]
  },
  {
   "cell_type": "code",
   "execution_count": 22,
   "metadata": {},
   "outputs": [
    {
     "data": {
      "text/html": [
       "<div>\n",
       "<style scoped>\n",
       "    .dataframe tbody tr th:only-of-type {\n",
       "        vertical-align: middle;\n",
       "    }\n",
       "\n",
       "    .dataframe tbody tr th {\n",
       "        vertical-align: top;\n",
       "    }\n",
       "\n",
       "    .dataframe thead th {\n",
       "        text-align: right;\n",
       "    }\n",
       "</style>\n",
       "<table border=\"1\" class=\"dataframe\">\n",
       "  <thead>\n",
       "    <tr style=\"text-align: right;\">\n",
       "      <th></th>\n",
       "      <th>funded_amnt</th>\n",
       "      <th>term</th>\n",
       "      <th>int_rate</th>\n",
       "      <th>installment</th>\n",
       "      <th>emp_length</th>\n",
       "      <th>home_ownership</th>\n",
       "      <th>annual_inc</th>\n",
       "      <th>verification_status</th>\n",
       "      <th>loan_status</th>\n",
       "      <th>purpose</th>\n",
       "      <th>total_pymnt</th>\n",
       "      <th>total_rec_prncp</th>\n",
       "      <th>total_rec_int</th>\n",
       "      <th>last_pymnt_amnt</th>\n",
       "      <th>repay_fail</th>\n",
       "    </tr>\n",
       "  </thead>\n",
       "  <tbody>\n",
       "    <tr>\n",
       "      <th>2</th>\n",
       "      <td>0.0</td>\n",
       "      <td>36 months</td>\n",
       "      <td>0.00</td>\n",
       "      <td>0.00</td>\n",
       "      <td>&lt; 1 year</td>\n",
       "      <td>RENT</td>\n",
       "      <td>0.0</td>\n",
       "      <td>Not Verified</td>\n",
       "      <td>Charged Off</td>\n",
       "      <td>major_purchase</td>\n",
       "      <td>0.000000</td>\n",
       "      <td>0.00</td>\n",
       "      <td>0.00</td>\n",
       "      <td>0.00</td>\n",
       "      <td>1</td>\n",
       "    </tr>\n",
       "    <tr>\n",
       "      <th>3</th>\n",
       "      <td>2500.0</td>\n",
       "      <td>36 months</td>\n",
       "      <td>13.98</td>\n",
       "      <td>85.42</td>\n",
       "      <td>4 years</td>\n",
       "      <td>RENT</td>\n",
       "      <td>20004.0</td>\n",
       "      <td>Not Verified</td>\n",
       "      <td>Does not meet the credit policy. Status:Fully ...</td>\n",
       "      <td>other</td>\n",
       "      <td>3075.291779</td>\n",
       "      <td>2500.00</td>\n",
       "      <td>575.29</td>\n",
       "      <td>90.85</td>\n",
       "      <td>0</td>\n",
       "    </tr>\n",
       "    <tr>\n",
       "      <th>4</th>\n",
       "      <td>5000.0</td>\n",
       "      <td>36 months</td>\n",
       "      <td>15.95</td>\n",
       "      <td>175.67</td>\n",
       "      <td>4 years</td>\n",
       "      <td>RENT</td>\n",
       "      <td>59000.0</td>\n",
       "      <td>Not Verified</td>\n",
       "      <td>Charged Off</td>\n",
       "      <td>debt_consolidation</td>\n",
       "      <td>2948.760000</td>\n",
       "      <td>1909.02</td>\n",
       "      <td>873.81</td>\n",
       "      <td>175.67</td>\n",
       "      <td>1</td>\n",
       "    </tr>\n",
       "    <tr>\n",
       "      <th>5</th>\n",
       "      <td>7000.0</td>\n",
       "      <td>36 months</td>\n",
       "      <td>9.91</td>\n",
       "      <td>225.58</td>\n",
       "      <td>10+ years</td>\n",
       "      <td>MORTGAGE</td>\n",
       "      <td>53796.0</td>\n",
       "      <td>Not Verified</td>\n",
       "      <td>Fully Paid</td>\n",
       "      <td>other</td>\n",
       "      <td>8082.391880</td>\n",
       "      <td>7000.00</td>\n",
       "      <td>1082.39</td>\n",
       "      <td>1550.27</td>\n",
       "      <td>0</td>\n",
       "    </tr>\n",
       "    <tr>\n",
       "      <th>6</th>\n",
       "      <td>2000.0</td>\n",
       "      <td>36 months</td>\n",
       "      <td>5.42</td>\n",
       "      <td>60.32</td>\n",
       "      <td>10+ years</td>\n",
       "      <td>RENT</td>\n",
       "      <td>30000.0</td>\n",
       "      <td>Not Verified</td>\n",
       "      <td>Fully Paid</td>\n",
       "      <td>debt_consolidation</td>\n",
       "      <td>2161.663244</td>\n",
       "      <td>2000.00</td>\n",
       "      <td>161.66</td>\n",
       "      <td>53.12</td>\n",
       "      <td>0</td>\n",
       "    </tr>\n",
       "  </tbody>\n",
       "</table>\n",
       "</div>"
      ],
      "text/plain": [
       "   funded_amnt       term  int_rate  installment emp_length home_ownership  \\\n",
       "2          0.0  36 months      0.00         0.00   < 1 year           RENT   \n",
       "3       2500.0  36 months     13.98        85.42    4 years           RENT   \n",
       "4       5000.0  36 months     15.95       175.67    4 years           RENT   \n",
       "5       7000.0  36 months      9.91       225.58  10+ years       MORTGAGE   \n",
       "6       2000.0  36 months      5.42        60.32  10+ years           RENT   \n",
       "\n",
       "   annual_inc verification_status  \\\n",
       "2         0.0        Not Verified   \n",
       "3     20004.0        Not Verified   \n",
       "4     59000.0        Not Verified   \n",
       "5     53796.0        Not Verified   \n",
       "6     30000.0        Not Verified   \n",
       "\n",
       "                                         loan_status             purpose  \\\n",
       "2                                        Charged Off      major_purchase   \n",
       "3  Does not meet the credit policy. Status:Fully ...               other   \n",
       "4                                        Charged Off  debt_consolidation   \n",
       "5                                         Fully Paid               other   \n",
       "6                                         Fully Paid  debt_consolidation   \n",
       "\n",
       "   total_pymnt  total_rec_prncp  total_rec_int  last_pymnt_amnt  repay_fail  \n",
       "2     0.000000             0.00           0.00             0.00           1  \n",
       "3  3075.291779          2500.00         575.29            90.85           0  \n",
       "4  2948.760000          1909.02         873.81           175.67           1  \n",
       "5  8082.391880          7000.00        1082.39          1550.27           0  \n",
       "6  2161.663244          2000.00         161.66            53.12           0  "
      ]
     },
     "execution_count": 22,
     "metadata": {},
     "output_type": "execute_result"
    }
   ],
   "source": [
    "X.head()"
   ]
  },
  {
   "cell_type": "code",
   "execution_count": 23,
   "metadata": {},
   "outputs": [],
   "source": [
    "y = df.repay_fail"
   ]
  },
  {
   "cell_type": "code",
   "execution_count": 24,
   "metadata": {},
   "outputs": [
    {
     "data": {
      "text/plain": [
       "2        1\n",
       "3        0\n",
       "4        1\n",
       "5        0\n",
       "6        0\n",
       "        ..\n",
       "38476    0\n",
       "38477    0\n",
       "38478    0\n",
       "38479    0\n",
       "38480    0\n",
       "Name: repay_fail, Length: 38480, dtype: int64"
      ]
     },
     "execution_count": 24,
     "metadata": {},
     "output_type": "execute_result"
    }
   ],
   "source": [
    "y"
   ]
  },
  {
   "cell_type": "code",
   "execution_count": 25,
   "metadata": {},
   "outputs": [
    {
     "data": {
      "text/plain": [
       "(38480, 15)"
      ]
     },
     "execution_count": 25,
     "metadata": {},
     "output_type": "execute_result"
    }
   ],
   "source": [
    "X.shape"
   ]
  },
  {
   "cell_type": "code",
   "execution_count": 26,
   "metadata": {},
   "outputs": [
    {
     "data": {
      "text/plain": [
       "(38480,)"
      ]
     },
     "execution_count": 26,
     "metadata": {},
     "output_type": "execute_result"
    }
   ],
   "source": [
    "y.shape"
   ]
  },
  {
   "cell_type": "code",
   "execution_count": 27,
   "metadata": {},
   "outputs": [
    {
     "name": "stdout",
     "output_type": "stream",
     "text": [
      "<class 'pandas.core.frame.DataFrame'>\n",
      "Int64Index: 38480 entries, 2 to 38480\n",
      "Data columns (total 15 columns):\n",
      " #   Column               Non-Null Count  Dtype  \n",
      "---  ------               --------------  -----  \n",
      " 0   funded_amnt          38479 non-null  float64\n",
      " 1   term                 38480 non-null  object \n",
      " 2   int_rate             38480 non-null  float64\n",
      " 3   installment          38479 non-null  float64\n",
      " 4   emp_length           37487 non-null  object \n",
      " 5   home_ownership       38480 non-null  object \n",
      " 6   annual_inc           38478 non-null  float64\n",
      " 7   verification_status  38480 non-null  object \n",
      " 8   loan_status          38480 non-null  object \n",
      " 9   purpose              38480 non-null  object \n",
      " 10  total_pymnt          38479 non-null  float64\n",
      " 11  total_rec_prncp      38479 non-null  float64\n",
      " 12  total_rec_int        38479 non-null  float64\n",
      " 13  last_pymnt_amnt      38479 non-null  float64\n",
      " 14  repay_fail           38480 non-null  int64  \n",
      "dtypes: float64(8), int64(1), object(6)\n",
      "memory usage: 4.7+ MB\n"
     ]
    }
   ],
   "source": [
    "X.info()"
   ]
  },
  {
   "cell_type": "code",
   "execution_count": 28,
   "metadata": {},
   "outputs": [
    {
     "data": {
      "text/html": [
       "<div>\n",
       "<style scoped>\n",
       "    .dataframe tbody tr th:only-of-type {\n",
       "        vertical-align: middle;\n",
       "    }\n",
       "\n",
       "    .dataframe tbody tr th {\n",
       "        vertical-align: top;\n",
       "    }\n",
       "\n",
       "    .dataframe thead th {\n",
       "        text-align: right;\n",
       "    }\n",
       "</style>\n",
       "<table border=\"1\" class=\"dataframe\">\n",
       "  <thead>\n",
       "    <tr style=\"text-align: right;\">\n",
       "      <th></th>\n",
       "      <th>funded_amnt</th>\n",
       "      <th>term</th>\n",
       "      <th>int_rate</th>\n",
       "      <th>installment</th>\n",
       "      <th>emp_length</th>\n",
       "      <th>home_ownership</th>\n",
       "      <th>annual_inc</th>\n",
       "      <th>verification_status</th>\n",
       "      <th>loan_status</th>\n",
       "      <th>purpose</th>\n",
       "      <th>total_pymnt</th>\n",
       "      <th>total_rec_prncp</th>\n",
       "      <th>total_rec_int</th>\n",
       "      <th>last_pymnt_amnt</th>\n",
       "      <th>repay_fail</th>\n",
       "    </tr>\n",
       "  </thead>\n",
       "  <tbody>\n",
       "    <tr>\n",
       "      <th>2</th>\n",
       "      <td>0.0</td>\n",
       "      <td>36 months</td>\n",
       "      <td>0.00</td>\n",
       "      <td>0.00</td>\n",
       "      <td>&lt; 1 year</td>\n",
       "      <td>RENT</td>\n",
       "      <td>0.0</td>\n",
       "      <td>Not Verified</td>\n",
       "      <td>Charged Off</td>\n",
       "      <td>major_purchase</td>\n",
       "      <td>0.000000</td>\n",
       "      <td>0.00</td>\n",
       "      <td>0.00</td>\n",
       "      <td>0.00</td>\n",
       "      <td>1</td>\n",
       "    </tr>\n",
       "    <tr>\n",
       "      <th>3</th>\n",
       "      <td>2500.0</td>\n",
       "      <td>36 months</td>\n",
       "      <td>13.98</td>\n",
       "      <td>85.42</td>\n",
       "      <td>4 years</td>\n",
       "      <td>RENT</td>\n",
       "      <td>20004.0</td>\n",
       "      <td>Not Verified</td>\n",
       "      <td>Does not meet the credit policy. Status:Fully ...</td>\n",
       "      <td>other</td>\n",
       "      <td>3075.291779</td>\n",
       "      <td>2500.00</td>\n",
       "      <td>575.29</td>\n",
       "      <td>90.85</td>\n",
       "      <td>0</td>\n",
       "    </tr>\n",
       "    <tr>\n",
       "      <th>4</th>\n",
       "      <td>5000.0</td>\n",
       "      <td>36 months</td>\n",
       "      <td>15.95</td>\n",
       "      <td>175.67</td>\n",
       "      <td>4 years</td>\n",
       "      <td>RENT</td>\n",
       "      <td>59000.0</td>\n",
       "      <td>Not Verified</td>\n",
       "      <td>Charged Off</td>\n",
       "      <td>debt_consolidation</td>\n",
       "      <td>2948.760000</td>\n",
       "      <td>1909.02</td>\n",
       "      <td>873.81</td>\n",
       "      <td>175.67</td>\n",
       "      <td>1</td>\n",
       "    </tr>\n",
       "    <tr>\n",
       "      <th>5</th>\n",
       "      <td>7000.0</td>\n",
       "      <td>36 months</td>\n",
       "      <td>9.91</td>\n",
       "      <td>225.58</td>\n",
       "      <td>10+ years</td>\n",
       "      <td>MORTGAGE</td>\n",
       "      <td>53796.0</td>\n",
       "      <td>Not Verified</td>\n",
       "      <td>Fully Paid</td>\n",
       "      <td>other</td>\n",
       "      <td>8082.391880</td>\n",
       "      <td>7000.00</td>\n",
       "      <td>1082.39</td>\n",
       "      <td>1550.27</td>\n",
       "      <td>0</td>\n",
       "    </tr>\n",
       "    <tr>\n",
       "      <th>6</th>\n",
       "      <td>2000.0</td>\n",
       "      <td>36 months</td>\n",
       "      <td>5.42</td>\n",
       "      <td>60.32</td>\n",
       "      <td>10+ years</td>\n",
       "      <td>RENT</td>\n",
       "      <td>30000.0</td>\n",
       "      <td>Not Verified</td>\n",
       "      <td>Fully Paid</td>\n",
       "      <td>debt_consolidation</td>\n",
       "      <td>2161.663244</td>\n",
       "      <td>2000.00</td>\n",
       "      <td>161.66</td>\n",
       "      <td>53.12</td>\n",
       "      <td>0</td>\n",
       "    </tr>\n",
       "  </tbody>\n",
       "</table>\n",
       "</div>"
      ],
      "text/plain": [
       "   funded_amnt       term  int_rate  installment emp_length home_ownership  \\\n",
       "2          0.0  36 months      0.00         0.00   < 1 year           RENT   \n",
       "3       2500.0  36 months     13.98        85.42    4 years           RENT   \n",
       "4       5000.0  36 months     15.95       175.67    4 years           RENT   \n",
       "5       7000.0  36 months      9.91       225.58  10+ years       MORTGAGE   \n",
       "6       2000.0  36 months      5.42        60.32  10+ years           RENT   \n",
       "\n",
       "   annual_inc verification_status  \\\n",
       "2         0.0        Not Verified   \n",
       "3     20004.0        Not Verified   \n",
       "4     59000.0        Not Verified   \n",
       "5     53796.0        Not Verified   \n",
       "6     30000.0        Not Verified   \n",
       "\n",
       "                                         loan_status             purpose  \\\n",
       "2                                        Charged Off      major_purchase   \n",
       "3  Does not meet the credit policy. Status:Fully ...               other   \n",
       "4                                        Charged Off  debt_consolidation   \n",
       "5                                         Fully Paid               other   \n",
       "6                                         Fully Paid  debt_consolidation   \n",
       "\n",
       "   total_pymnt  total_rec_prncp  total_rec_int  last_pymnt_amnt  repay_fail  \n",
       "2     0.000000             0.00           0.00             0.00           1  \n",
       "3  3075.291779          2500.00         575.29            90.85           0  \n",
       "4  2948.760000          1909.02         873.81           175.67           1  \n",
       "5  8082.391880          7000.00        1082.39          1550.27           0  \n",
       "6  2161.663244          2000.00         161.66            53.12           0  "
      ]
     },
     "execution_count": 28,
     "metadata": {},
     "output_type": "execute_result"
    }
   ],
   "source": [
    "X.head()"
   ]
  },
  {
   "cell_type": "code",
   "execution_count": 29,
   "metadata": {},
   "outputs": [
    {
     "data": {
      "text/html": [
       "<div>\n",
       "<style scoped>\n",
       "    .dataframe tbody tr th:only-of-type {\n",
       "        vertical-align: middle;\n",
       "    }\n",
       "\n",
       "    .dataframe tbody tr th {\n",
       "        vertical-align: top;\n",
       "    }\n",
       "\n",
       "    .dataframe thead th {\n",
       "        text-align: right;\n",
       "    }\n",
       "</style>\n",
       "<table border=\"1\" class=\"dataframe\">\n",
       "  <thead>\n",
       "    <tr style=\"text-align: right;\">\n",
       "      <th></th>\n",
       "      <th>funded_amnt</th>\n",
       "      <th>term</th>\n",
       "      <th>int_rate</th>\n",
       "      <th>installment</th>\n",
       "      <th>emp_length</th>\n",
       "      <th>home_ownership</th>\n",
       "      <th>annual_inc</th>\n",
       "      <th>verification_status</th>\n",
       "      <th>loan_status</th>\n",
       "      <th>purpose</th>\n",
       "      <th>total_pymnt</th>\n",
       "      <th>total_rec_prncp</th>\n",
       "      <th>total_rec_int</th>\n",
       "      <th>last_pymnt_amnt</th>\n",
       "      <th>repay_fail</th>\n",
       "    </tr>\n",
       "  </thead>\n",
       "  <tbody>\n",
       "    <tr>\n",
       "      <th>2</th>\n",
       "      <td>0.0</td>\n",
       "      <td>36 months</td>\n",
       "      <td>0.00</td>\n",
       "      <td>0.00</td>\n",
       "      <td>&lt; 1 year</td>\n",
       "      <td>RENT</td>\n",
       "      <td>0.0</td>\n",
       "      <td>Not Verified</td>\n",
       "      <td>Charged Off</td>\n",
       "      <td>major_purchase</td>\n",
       "      <td>0.000000</td>\n",
       "      <td>0.00</td>\n",
       "      <td>0.00</td>\n",
       "      <td>0.00</td>\n",
       "      <td>1</td>\n",
       "    </tr>\n",
       "    <tr>\n",
       "      <th>3</th>\n",
       "      <td>2500.0</td>\n",
       "      <td>36 months</td>\n",
       "      <td>13.98</td>\n",
       "      <td>85.42</td>\n",
       "      <td>4 years</td>\n",
       "      <td>RENT</td>\n",
       "      <td>20004.0</td>\n",
       "      <td>Not Verified</td>\n",
       "      <td>Does not meet the credit policy. Status:Fully ...</td>\n",
       "      <td>other</td>\n",
       "      <td>3075.291779</td>\n",
       "      <td>2500.00</td>\n",
       "      <td>575.29</td>\n",
       "      <td>90.85</td>\n",
       "      <td>0</td>\n",
       "    </tr>\n",
       "    <tr>\n",
       "      <th>4</th>\n",
       "      <td>5000.0</td>\n",
       "      <td>36 months</td>\n",
       "      <td>15.95</td>\n",
       "      <td>175.67</td>\n",
       "      <td>4 years</td>\n",
       "      <td>RENT</td>\n",
       "      <td>59000.0</td>\n",
       "      <td>Not Verified</td>\n",
       "      <td>Charged Off</td>\n",
       "      <td>debt_consolidation</td>\n",
       "      <td>2948.760000</td>\n",
       "      <td>1909.02</td>\n",
       "      <td>873.81</td>\n",
       "      <td>175.67</td>\n",
       "      <td>1</td>\n",
       "    </tr>\n",
       "    <tr>\n",
       "      <th>5</th>\n",
       "      <td>7000.0</td>\n",
       "      <td>36 months</td>\n",
       "      <td>9.91</td>\n",
       "      <td>225.58</td>\n",
       "      <td>10+ years</td>\n",
       "      <td>MORTGAGE</td>\n",
       "      <td>53796.0</td>\n",
       "      <td>Not Verified</td>\n",
       "      <td>Fully Paid</td>\n",
       "      <td>other</td>\n",
       "      <td>8082.391880</td>\n",
       "      <td>7000.00</td>\n",
       "      <td>1082.39</td>\n",
       "      <td>1550.27</td>\n",
       "      <td>0</td>\n",
       "    </tr>\n",
       "    <tr>\n",
       "      <th>6</th>\n",
       "      <td>2000.0</td>\n",
       "      <td>36 months</td>\n",
       "      <td>5.42</td>\n",
       "      <td>60.32</td>\n",
       "      <td>10+ years</td>\n",
       "      <td>RENT</td>\n",
       "      <td>30000.0</td>\n",
       "      <td>Not Verified</td>\n",
       "      <td>Fully Paid</td>\n",
       "      <td>debt_consolidation</td>\n",
       "      <td>2161.663244</td>\n",
       "      <td>2000.00</td>\n",
       "      <td>161.66</td>\n",
       "      <td>53.12</td>\n",
       "      <td>0</td>\n",
       "    </tr>\n",
       "  </tbody>\n",
       "</table>\n",
       "</div>"
      ],
      "text/plain": [
       "   funded_amnt       term  int_rate  installment emp_length home_ownership  \\\n",
       "2          0.0  36 months      0.00         0.00   < 1 year           RENT   \n",
       "3       2500.0  36 months     13.98        85.42    4 years           RENT   \n",
       "4       5000.0  36 months     15.95       175.67    4 years           RENT   \n",
       "5       7000.0  36 months      9.91       225.58  10+ years       MORTGAGE   \n",
       "6       2000.0  36 months      5.42        60.32  10+ years           RENT   \n",
       "\n",
       "   annual_inc verification_status  \\\n",
       "2         0.0        Not Verified   \n",
       "3     20004.0        Not Verified   \n",
       "4     59000.0        Not Verified   \n",
       "5     53796.0        Not Verified   \n",
       "6     30000.0        Not Verified   \n",
       "\n",
       "                                         loan_status             purpose  \\\n",
       "2                                        Charged Off      major_purchase   \n",
       "3  Does not meet the credit policy. Status:Fully ...               other   \n",
       "4                                        Charged Off  debt_consolidation   \n",
       "5                                         Fully Paid               other   \n",
       "6                                         Fully Paid  debt_consolidation   \n",
       "\n",
       "   total_pymnt  total_rec_prncp  total_rec_int  last_pymnt_amnt  repay_fail  \n",
       "2     0.000000             0.00           0.00             0.00           1  \n",
       "3  3075.291779          2500.00         575.29            90.85           0  \n",
       "4  2948.760000          1909.02         873.81           175.67           1  \n",
       "5  8082.391880          7000.00        1082.39          1550.27           0  \n",
       "6  2161.663244          2000.00         161.66            53.12           0  "
      ]
     },
     "execution_count": 29,
     "metadata": {},
     "output_type": "execute_result"
    }
   ],
   "source": [
    "X.head()"
   ]
  },
  {
   "cell_type": "markdown",
   "metadata": {},
   "source": []
  },
  {
   "cell_type": "code",
   "execution_count": 30,
   "metadata": {},
   "outputs": [
    {
     "data": {
      "text/plain": [
       "funded_amnt              1\n",
       "term                     0\n",
       "int_rate                 0\n",
       "installment              1\n",
       "emp_length             993\n",
       "home_ownership           0\n",
       "annual_inc               2\n",
       "verification_status      0\n",
       "loan_status              0\n",
       "purpose                  0\n",
       "total_pymnt              1\n",
       "total_rec_prncp          1\n",
       "total_rec_int            1\n",
       "last_pymnt_amnt          1\n",
       "repay_fail               0\n",
       "dtype: int64"
      ]
     },
     "execution_count": 30,
     "metadata": {},
     "output_type": "execute_result"
    }
   ],
   "source": [
    "X.isna().sum()"
   ]
  },
  {
   "cell_type": "code",
   "execution_count": 31,
   "metadata": {},
   "outputs": [
    {
     "data": {
      "text/plain": [
       "array(['Not Verified', 'Verified', 'Source Verified'], dtype=object)"
      ]
     },
     "execution_count": 31,
     "metadata": {},
     "output_type": "execute_result"
    }
   ],
   "source": [
    "X.verification_status.unique()"
   ]
  },
  {
   "cell_type": "code",
   "execution_count": 32,
   "metadata": {},
   "outputs": [],
   "source": [
    "X['verification_status'] = X['verification_status'].replace(['Source Verified'], 'Verified')"
   ]
  },
  {
   "cell_type": "code",
   "execution_count": 33,
   "metadata": {},
   "outputs": [
    {
     "data": {
      "text/plain": [
       "array(['Not Verified', 'Verified'], dtype=object)"
      ]
     },
     "execution_count": 33,
     "metadata": {},
     "output_type": "execute_result"
    }
   ],
   "source": [
    "X.verification_status.unique()"
   ]
  },
  {
   "cell_type": "code",
   "execution_count": 34,
   "metadata": {},
   "outputs": [
    {
     "data": {
      "text/plain": [
       "array(['Charged Off',\n",
       "       'Does not meet the credit policy. Status:Fully Paid', 'Fully Paid',\n",
       "       'Current', 'Does not meet the credit policy. Status:Charged Off',\n",
       "       'Late (31-120 days)', 'In Grace Period', 'Late (16-30 days)',\n",
       "       'Default'], dtype=object)"
      ]
     },
     "execution_count": 34,
     "metadata": {},
     "output_type": "execute_result"
    }
   ],
   "source": [
    "X.loan_status.unique()"
   ]
  },
  {
   "cell_type": "code",
   "execution_count": 35,
   "metadata": {},
   "outputs": [],
   "source": [
    "X['loan_status'] = X['loan_status'].replace(['Does not meet the credit policy. Status:Fully Paid'], 'Fully Paid')"
   ]
  },
  {
   "cell_type": "code",
   "execution_count": 36,
   "metadata": {},
   "outputs": [
    {
     "data": {
      "text/plain": [
       "array(['Charged Off', 'Fully Paid', 'Current',\n",
       "       'Does not meet the credit policy. Status:Charged Off',\n",
       "       'Late (31-120 days)', 'In Grace Period', 'Late (16-30 days)',\n",
       "       'Default'], dtype=object)"
      ]
     },
     "execution_count": 36,
     "metadata": {},
     "output_type": "execute_result"
    }
   ],
   "source": [
    "X.loan_status.unique()"
   ]
  },
  {
   "cell_type": "code",
   "execution_count": 37,
   "metadata": {},
   "outputs": [],
   "source": [
    "X['loan_status'] = X['loan_status'].replace(['Does not meet the credit policy. Status:Charged Off'], 'Charged Off')"
   ]
  },
  {
   "cell_type": "code",
   "execution_count": 38,
   "metadata": {},
   "outputs": [
    {
     "data": {
      "text/plain": [
       "array(['Charged Off', 'Fully Paid', 'Current', 'Late (31-120 days)',\n",
       "       'In Grace Period', 'Late (16-30 days)', 'Default'], dtype=object)"
      ]
     },
     "execution_count": 38,
     "metadata": {},
     "output_type": "execute_result"
    }
   ],
   "source": [
    "X.loan_status.unique()"
   ]
  },
  {
   "cell_type": "code",
   "execution_count": 39,
   "metadata": {},
   "outputs": [],
   "source": [
    "X['loan_status'] = X['loan_status'].replace(['Late (31-120 days)','Late (16-30 days)'], 'Late ')"
   ]
  },
  {
   "cell_type": "code",
   "execution_count": 40,
   "metadata": {},
   "outputs": [
    {
     "data": {
      "text/plain": [
       "array(['Charged Off', 'Fully Paid', 'Current', 'Late ', 'In Grace Period',\n",
       "       'Default'], dtype=object)"
      ]
     },
     "execution_count": 40,
     "metadata": {},
     "output_type": "execute_result"
    }
   ],
   "source": [
    "X.loan_status.unique()"
   ]
  },
  {
   "cell_type": "code",
   "execution_count": 41,
   "metadata": {},
   "outputs": [
    {
     "data": {
      "text/html": [
       "<div>\n",
       "<style scoped>\n",
       "    .dataframe tbody tr th:only-of-type {\n",
       "        vertical-align: middle;\n",
       "    }\n",
       "\n",
       "    .dataframe tbody tr th {\n",
       "        vertical-align: top;\n",
       "    }\n",
       "\n",
       "    .dataframe thead th {\n",
       "        text-align: right;\n",
       "    }\n",
       "</style>\n",
       "<table border=\"1\" class=\"dataframe\">\n",
       "  <thead>\n",
       "    <tr style=\"text-align: right;\">\n",
       "      <th></th>\n",
       "      <th>funded_amnt</th>\n",
       "      <th>term</th>\n",
       "      <th>int_rate</th>\n",
       "      <th>installment</th>\n",
       "      <th>emp_length</th>\n",
       "      <th>home_ownership</th>\n",
       "      <th>annual_inc</th>\n",
       "      <th>verification_status</th>\n",
       "      <th>loan_status</th>\n",
       "      <th>purpose</th>\n",
       "      <th>total_pymnt</th>\n",
       "      <th>total_rec_prncp</th>\n",
       "      <th>total_rec_int</th>\n",
       "      <th>last_pymnt_amnt</th>\n",
       "      <th>repay_fail</th>\n",
       "    </tr>\n",
       "  </thead>\n",
       "  <tbody>\n",
       "    <tr>\n",
       "      <th>2</th>\n",
       "      <td>0.0</td>\n",
       "      <td>36 months</td>\n",
       "      <td>0.00</td>\n",
       "      <td>0.00</td>\n",
       "      <td>&lt; 1 year</td>\n",
       "      <td>RENT</td>\n",
       "      <td>0.0</td>\n",
       "      <td>Not Verified</td>\n",
       "      <td>Charged Off</td>\n",
       "      <td>major_purchase</td>\n",
       "      <td>0.000000</td>\n",
       "      <td>0.00</td>\n",
       "      <td>0.00</td>\n",
       "      <td>0.00</td>\n",
       "      <td>1</td>\n",
       "    </tr>\n",
       "    <tr>\n",
       "      <th>3</th>\n",
       "      <td>2500.0</td>\n",
       "      <td>36 months</td>\n",
       "      <td>13.98</td>\n",
       "      <td>85.42</td>\n",
       "      <td>4 years</td>\n",
       "      <td>RENT</td>\n",
       "      <td>20004.0</td>\n",
       "      <td>Not Verified</td>\n",
       "      <td>Fully Paid</td>\n",
       "      <td>other</td>\n",
       "      <td>3075.291779</td>\n",
       "      <td>2500.00</td>\n",
       "      <td>575.29</td>\n",
       "      <td>90.85</td>\n",
       "      <td>0</td>\n",
       "    </tr>\n",
       "    <tr>\n",
       "      <th>4</th>\n",
       "      <td>5000.0</td>\n",
       "      <td>36 months</td>\n",
       "      <td>15.95</td>\n",
       "      <td>175.67</td>\n",
       "      <td>4 years</td>\n",
       "      <td>RENT</td>\n",
       "      <td>59000.0</td>\n",
       "      <td>Not Verified</td>\n",
       "      <td>Charged Off</td>\n",
       "      <td>debt_consolidation</td>\n",
       "      <td>2948.760000</td>\n",
       "      <td>1909.02</td>\n",
       "      <td>873.81</td>\n",
       "      <td>175.67</td>\n",
       "      <td>1</td>\n",
       "    </tr>\n",
       "    <tr>\n",
       "      <th>5</th>\n",
       "      <td>7000.0</td>\n",
       "      <td>36 months</td>\n",
       "      <td>9.91</td>\n",
       "      <td>225.58</td>\n",
       "      <td>10+ years</td>\n",
       "      <td>MORTGAGE</td>\n",
       "      <td>53796.0</td>\n",
       "      <td>Not Verified</td>\n",
       "      <td>Fully Paid</td>\n",
       "      <td>other</td>\n",
       "      <td>8082.391880</td>\n",
       "      <td>7000.00</td>\n",
       "      <td>1082.39</td>\n",
       "      <td>1550.27</td>\n",
       "      <td>0</td>\n",
       "    </tr>\n",
       "    <tr>\n",
       "      <th>6</th>\n",
       "      <td>2000.0</td>\n",
       "      <td>36 months</td>\n",
       "      <td>5.42</td>\n",
       "      <td>60.32</td>\n",
       "      <td>10+ years</td>\n",
       "      <td>RENT</td>\n",
       "      <td>30000.0</td>\n",
       "      <td>Not Verified</td>\n",
       "      <td>Fully Paid</td>\n",
       "      <td>debt_consolidation</td>\n",
       "      <td>2161.663244</td>\n",
       "      <td>2000.00</td>\n",
       "      <td>161.66</td>\n",
       "      <td>53.12</td>\n",
       "      <td>0</td>\n",
       "    </tr>\n",
       "  </tbody>\n",
       "</table>\n",
       "</div>"
      ],
      "text/plain": [
       "   funded_amnt       term  int_rate  installment emp_length home_ownership  \\\n",
       "2          0.0  36 months      0.00         0.00   < 1 year           RENT   \n",
       "3       2500.0  36 months     13.98        85.42    4 years           RENT   \n",
       "4       5000.0  36 months     15.95       175.67    4 years           RENT   \n",
       "5       7000.0  36 months      9.91       225.58  10+ years       MORTGAGE   \n",
       "6       2000.0  36 months      5.42        60.32  10+ years           RENT   \n",
       "\n",
       "   annual_inc verification_status  loan_status             purpose  \\\n",
       "2         0.0        Not Verified  Charged Off      major_purchase   \n",
       "3     20004.0        Not Verified   Fully Paid               other   \n",
       "4     59000.0        Not Verified  Charged Off  debt_consolidation   \n",
       "5     53796.0        Not Verified   Fully Paid               other   \n",
       "6     30000.0        Not Verified   Fully Paid  debt_consolidation   \n",
       "\n",
       "   total_pymnt  total_rec_prncp  total_rec_int  last_pymnt_amnt  repay_fail  \n",
       "2     0.000000             0.00           0.00             0.00           1  \n",
       "3  3075.291779          2500.00         575.29            90.85           0  \n",
       "4  2948.760000          1909.02         873.81           175.67           1  \n",
       "5  8082.391880          7000.00        1082.39          1550.27           0  \n",
       "6  2161.663244          2000.00         161.66            53.12           0  "
      ]
     },
     "execution_count": 41,
     "metadata": {},
     "output_type": "execute_result"
    }
   ],
   "source": [
    "X.head()"
   ]
  },
  {
   "cell_type": "code",
   "execution_count": 42,
   "metadata": {},
   "outputs": [
    {
     "data": {
      "text/plain": [
       "array(['major_purchase', 'other', 'debt_consolidation', 'credit_card',\n",
       "       'small_business', 'wedding', 'medical', 'car', 'home_improvement',\n",
       "       'vacation', 'educational', 'house', 'moving', 'renewable_energy'],\n",
       "      dtype=object)"
      ]
     },
     "execution_count": 42,
     "metadata": {},
     "output_type": "execute_result"
    }
   ],
   "source": [
    "X.purpose.unique()"
   ]
  },
  {
   "cell_type": "code",
   "execution_count": 43,
   "metadata": {},
   "outputs": [
    {
     "data": {
      "text/plain": [
       "array(['< 1 year', '4 years', '10+ years', nan, '3 years', '5 years',\n",
       "       '7 years', '2 years', '1 year', '6 years', '9 years', '8 years'],\n",
       "      dtype=object)"
      ]
     },
     "execution_count": 43,
     "metadata": {},
     "output_type": "execute_result"
    }
   ],
   "source": [
    "X.emp_length.unique()\n"
   ]
  },
  {
   "cell_type": "code",
   "execution_count": 44,
   "metadata": {},
   "outputs": [
    {
     "data": {
      "text/plain": [
       "array(['36 months', '60 months'], dtype=object)"
      ]
     },
     "execution_count": 44,
     "metadata": {},
     "output_type": "execute_result"
    }
   ],
   "source": [
    "X.term.unique()\n"
   ]
  },
  {
   "cell_type": "code",
   "execution_count": 45,
   "metadata": {},
   "outputs": [],
   "source": [
    "X['term'] = X['term'].replace(['36 months'], 36)"
   ]
  },
  {
   "cell_type": "code",
   "execution_count": 46,
   "metadata": {},
   "outputs": [
    {
     "data": {
      "text/plain": [
       "array([36, '60 months'], dtype=object)"
      ]
     },
     "execution_count": 46,
     "metadata": {},
     "output_type": "execute_result"
    }
   ],
   "source": [
    "X.term.unique()\n"
   ]
  },
  {
   "cell_type": "code",
   "execution_count": 47,
   "metadata": {},
   "outputs": [],
   "source": [
    "X['term'] = X['term'].replace(['60 months'], 60)"
   ]
  },
  {
   "cell_type": "code",
   "execution_count": 48,
   "metadata": {},
   "outputs": [],
   "source": [
    "home_ownership_mapping={\n",
    "    'RENT' :  0, \n",
    "    'MORTGAGE': 1, \n",
    "    'OWN' :2,\n",
    "    'OTHER' :3,\n",
    "     'NONE' :4\n",
    "}\n",
    "X['home_ownership'] = X['home_ownership'].replace(home_ownership_mapping)"
   ]
  },
  {
   "cell_type": "code",
   "execution_count": 49,
   "metadata": {},
   "outputs": [
    {
     "data": {
      "text/plain": [
       "array([36, 60], dtype=int64)"
      ]
     },
     "execution_count": 49,
     "metadata": {},
     "output_type": "execute_result"
    }
   ],
   "source": [
    "X.term.unique()\n"
   ]
  },
  {
   "cell_type": "code",
   "execution_count": 50,
   "metadata": {},
   "outputs": [
    {
     "data": {
      "text/html": [
       "<div>\n",
       "<style scoped>\n",
       "    .dataframe tbody tr th:only-of-type {\n",
       "        vertical-align: middle;\n",
       "    }\n",
       "\n",
       "    .dataframe tbody tr th {\n",
       "        vertical-align: top;\n",
       "    }\n",
       "\n",
       "    .dataframe thead th {\n",
       "        text-align: right;\n",
       "    }\n",
       "</style>\n",
       "<table border=\"1\" class=\"dataframe\">\n",
       "  <thead>\n",
       "    <tr style=\"text-align: right;\">\n",
       "      <th></th>\n",
       "      <th>funded_amnt</th>\n",
       "      <th>term</th>\n",
       "      <th>int_rate</th>\n",
       "      <th>installment</th>\n",
       "      <th>emp_length</th>\n",
       "      <th>home_ownership</th>\n",
       "      <th>annual_inc</th>\n",
       "      <th>verification_status</th>\n",
       "      <th>loan_status</th>\n",
       "      <th>purpose</th>\n",
       "      <th>total_pymnt</th>\n",
       "      <th>total_rec_prncp</th>\n",
       "      <th>total_rec_int</th>\n",
       "      <th>last_pymnt_amnt</th>\n",
       "      <th>repay_fail</th>\n",
       "    </tr>\n",
       "  </thead>\n",
       "  <tbody>\n",
       "    <tr>\n",
       "      <th>2</th>\n",
       "      <td>0.0</td>\n",
       "      <td>36</td>\n",
       "      <td>0.00</td>\n",
       "      <td>0.00</td>\n",
       "      <td>&lt; 1 year</td>\n",
       "      <td>0</td>\n",
       "      <td>0.0</td>\n",
       "      <td>Not Verified</td>\n",
       "      <td>Charged Off</td>\n",
       "      <td>major_purchase</td>\n",
       "      <td>0.000000</td>\n",
       "      <td>0.00</td>\n",
       "      <td>0.00</td>\n",
       "      <td>0.00</td>\n",
       "      <td>1</td>\n",
       "    </tr>\n",
       "    <tr>\n",
       "      <th>3</th>\n",
       "      <td>2500.0</td>\n",
       "      <td>36</td>\n",
       "      <td>13.98</td>\n",
       "      <td>85.42</td>\n",
       "      <td>4 years</td>\n",
       "      <td>0</td>\n",
       "      <td>20004.0</td>\n",
       "      <td>Not Verified</td>\n",
       "      <td>Fully Paid</td>\n",
       "      <td>other</td>\n",
       "      <td>3075.291779</td>\n",
       "      <td>2500.00</td>\n",
       "      <td>575.29</td>\n",
       "      <td>90.85</td>\n",
       "      <td>0</td>\n",
       "    </tr>\n",
       "    <tr>\n",
       "      <th>4</th>\n",
       "      <td>5000.0</td>\n",
       "      <td>36</td>\n",
       "      <td>15.95</td>\n",
       "      <td>175.67</td>\n",
       "      <td>4 years</td>\n",
       "      <td>0</td>\n",
       "      <td>59000.0</td>\n",
       "      <td>Not Verified</td>\n",
       "      <td>Charged Off</td>\n",
       "      <td>debt_consolidation</td>\n",
       "      <td>2948.760000</td>\n",
       "      <td>1909.02</td>\n",
       "      <td>873.81</td>\n",
       "      <td>175.67</td>\n",
       "      <td>1</td>\n",
       "    </tr>\n",
       "  </tbody>\n",
       "</table>\n",
       "</div>"
      ],
      "text/plain": [
       "   funded_amnt  term  int_rate  installment emp_length  home_ownership  \\\n",
       "2          0.0    36      0.00         0.00   < 1 year               0   \n",
       "3       2500.0    36     13.98        85.42    4 years               0   \n",
       "4       5000.0    36     15.95       175.67    4 years               0   \n",
       "\n",
       "   annual_inc verification_status  loan_status             purpose  \\\n",
       "2         0.0        Not Verified  Charged Off      major_purchase   \n",
       "3     20004.0        Not Verified   Fully Paid               other   \n",
       "4     59000.0        Not Verified  Charged Off  debt_consolidation   \n",
       "\n",
       "   total_pymnt  total_rec_prncp  total_rec_int  last_pymnt_amnt  repay_fail  \n",
       "2     0.000000             0.00           0.00             0.00           1  \n",
       "3  3075.291779          2500.00         575.29            90.85           0  \n",
       "4  2948.760000          1909.02         873.81           175.67           1  "
      ]
     },
     "execution_count": 50,
     "metadata": {},
     "output_type": "execute_result"
    }
   ],
   "source": [
    "X.head(3)"
   ]
  },
  {
   "cell_type": "code",
   "execution_count": 51,
   "metadata": {},
   "outputs": [
    {
     "data": {
      "text/plain": [
       "array([0, 1, 2, 3, 4], dtype=int64)"
      ]
     },
     "execution_count": 51,
     "metadata": {},
     "output_type": "execute_result"
    }
   ],
   "source": [
    "X.home_ownership.unique()\n"
   ]
  },
  {
   "cell_type": "code",
   "execution_count": 52,
   "metadata": {},
   "outputs": [
    {
     "name": "stdout",
     "output_type": "stream",
     "text": [
      "<class 'pandas.core.frame.DataFrame'>\n",
      "Int64Index: 38480 entries, 2 to 38480\n",
      "Data columns (total 15 columns):\n",
      " #   Column               Non-Null Count  Dtype  \n",
      "---  ------               --------------  -----  \n",
      " 0   funded_amnt          38479 non-null  float64\n",
      " 1   term                 38480 non-null  int64  \n",
      " 2   int_rate             38480 non-null  float64\n",
      " 3   installment          38479 non-null  float64\n",
      " 4   emp_length           37487 non-null  object \n",
      " 5   home_ownership       38480 non-null  int64  \n",
      " 6   annual_inc           38478 non-null  float64\n",
      " 7   verification_status  38480 non-null  object \n",
      " 8   loan_status          38480 non-null  object \n",
      " 9   purpose              38480 non-null  object \n",
      " 10  total_pymnt          38479 non-null  float64\n",
      " 11  total_rec_prncp      38479 non-null  float64\n",
      " 12  total_rec_int        38479 non-null  float64\n",
      " 13  last_pymnt_amnt      38479 non-null  float64\n",
      " 14  repay_fail           38480 non-null  int64  \n",
      "dtypes: float64(8), int64(3), object(4)\n",
      "memory usage: 4.7+ MB\n"
     ]
    }
   ],
   "source": [
    "X.info()"
   ]
  },
  {
   "cell_type": "code",
   "execution_count": 53,
   "metadata": {},
   "outputs": [],
   "source": [
    "X = X.iloc[:,:-1]\n"
   ]
  },
  {
   "cell_type": "code",
   "execution_count": 54,
   "metadata": {},
   "outputs": [
    {
     "data": {
      "text/plain": [
       "(38480, 14)"
      ]
     },
     "execution_count": 54,
     "metadata": {},
     "output_type": "execute_result"
    }
   ],
   "source": [
    "X.shape"
   ]
  },
  {
   "cell_type": "code",
   "execution_count": 55,
   "metadata": {},
   "outputs": [
    {
     "data": {
      "text/plain": [
       "(38480,)"
      ]
     },
     "execution_count": 55,
     "metadata": {},
     "output_type": "execute_result"
    }
   ],
   "source": [
    "y.shape"
   ]
  },
  {
   "cell_type": "code",
   "execution_count": 56,
   "metadata": {},
   "outputs": [
    {
     "data": {
      "text/plain": [
       "funded_amnt              1\n",
       "term                     0\n",
       "int_rate                 0\n",
       "installment              1\n",
       "emp_length             993\n",
       "home_ownership           0\n",
       "annual_inc               2\n",
       "verification_status      0\n",
       "loan_status              0\n",
       "purpose                  0\n",
       "total_pymnt              1\n",
       "total_rec_prncp          1\n",
       "total_rec_int            1\n",
       "last_pymnt_amnt          1\n",
       "dtype: int64"
      ]
     },
     "execution_count": 56,
     "metadata": {},
     "output_type": "execute_result"
    }
   ],
   "source": [
    "X.isna().sum()"
   ]
  },
  {
   "cell_type": "code",
   "execution_count": 57,
   "metadata": {},
   "outputs": [
    {
     "name": "stdout",
     "output_type": "stream",
     "text": [
      "<class 'pandas.core.frame.DataFrame'>\n",
      "Int64Index: 38480 entries, 2 to 38480\n",
      "Data columns (total 14 columns):\n",
      " #   Column               Non-Null Count  Dtype  \n",
      "---  ------               --------------  -----  \n",
      " 0   funded_amnt          38479 non-null  float64\n",
      " 1   term                 38480 non-null  int64  \n",
      " 2   int_rate             38480 non-null  float64\n",
      " 3   installment          38479 non-null  float64\n",
      " 4   emp_length           37487 non-null  object \n",
      " 5   home_ownership       38480 non-null  int64  \n",
      " 6   annual_inc           38478 non-null  float64\n",
      " 7   verification_status  38480 non-null  object \n",
      " 8   loan_status          38480 non-null  object \n",
      " 9   purpose              38480 non-null  object \n",
      " 10  total_pymnt          38479 non-null  float64\n",
      " 11  total_rec_prncp      38479 non-null  float64\n",
      " 12  total_rec_int        38479 non-null  float64\n",
      " 13  last_pymnt_amnt      38479 non-null  float64\n",
      "dtypes: float64(8), int64(2), object(4)\n",
      "memory usage: 4.4+ MB\n"
     ]
    }
   ],
   "source": [
    "X.info()"
   ]
  },
  {
   "cell_type": "code",
   "execution_count": 58,
   "metadata": {},
   "outputs": [],
   "source": [
    "from sklearn.model_selection import train_test_split\n",
    "from sklearn.compose import ColumnTransformer,make_column_transformer\n",
    "from sklearn.impute import SimpleImputer\n",
    "from sklearn.preprocessing import OneHotEncoder\n",
    "from sklearn.preprocessing import MinMaxScaler\n",
    "from sklearn.pipeline import Pipeline,make_pipeline\n",
    "from sklearn.feature_selection import SelectKBest,chi2\n",
    "from sklearn.tree import DecisionTreeClassifier\n",
    "from sklearn.linear_model import LogisticRegression\n",
    "from sklearn.ensemble import RandomForestClassifier\n",
    "from xgboost import XGBClassifier"
   ]
  },
  {
   "cell_type": "code",
   "execution_count": 59,
   "metadata": {},
   "outputs": [],
   "source": [
    "X_train,X_test,y_train,y_test = train_test_split(X,y,test_size=0.2,random_state=42)"
   ]
  },
  {
   "cell_type": "markdown",
   "metadata": {},
   "source": [
    "# Making Column Transformer"
   ]
  },
  {
   "cell_type": "code",
   "execution_count": 67,
   "metadata": {},
   "outputs": [],
   "source": [
    "num1= [0,3,6,10,11,12]\n",
    "trf1 = ColumnTransformer([\n",
    "    ('impute_age',SimpleImputer(),num1),\n",
    "    ('emp_length',SimpleImputer(strategy='most_frequent'),[4]),\n",
    "   \n",
    "],remainder='passthrough')"
   ]
  },
  {
   "cell_type": "code",
   "execution_count": 68,
   "metadata": {},
   "outputs": [],
   "source": [
    "# one hot encoding\n",
    "cat =[7,8,9]\n",
    "trf2  = ColumnTransformer([\n",
    "    (\"onehot_categorical\", OneHotEncoder(sparse=False, handle_unknown='ignore'),cat )],\n",
    "    remainder= \"passthrough\")"
   ]
  },
  {
   "cell_type": "code",
   "execution_count": 69,
   "metadata": {},
   "outputs": [],
   "source": [
    "trf3 = ColumnTransformer([\n",
    "    ('scale',MinMaxScaler(),slice(0,10))\n",
    "])"
   ]
  },
  {
   "cell_type": "code",
   "execution_count": 70,
   "metadata": {},
   "outputs": [],
   "source": [
    "trf4 = SelectKBest(score_func=chi2,k=9)"
   ]
  },
  {
   "cell_type": "code",
   "execution_count": 71,
   "metadata": {},
   "outputs": [],
   "source": [
    "trf5 = DecisionTreeClassifier()"
   ]
  },
  {
   "cell_type": "code",
   "execution_count": 72,
   "metadata": {},
   "outputs": [
    {
     "data": {
      "text/html": [
       "<div>\n",
       "<style scoped>\n",
       "    .dataframe tbody tr th:only-of-type {\n",
       "        vertical-align: middle;\n",
       "    }\n",
       "\n",
       "    .dataframe tbody tr th {\n",
       "        vertical-align: top;\n",
       "    }\n",
       "\n",
       "    .dataframe thead th {\n",
       "        text-align: right;\n",
       "    }\n",
       "</style>\n",
       "<table border=\"1\" class=\"dataframe\">\n",
       "  <thead>\n",
       "    <tr style=\"text-align: right;\">\n",
       "      <th></th>\n",
       "      <th>funded_amnt</th>\n",
       "      <th>term</th>\n",
       "      <th>int_rate</th>\n",
       "      <th>installment</th>\n",
       "      <th>emp_length</th>\n",
       "      <th>home_ownership</th>\n",
       "      <th>annual_inc</th>\n",
       "      <th>verification_status</th>\n",
       "      <th>loan_status</th>\n",
       "      <th>purpose</th>\n",
       "      <th>total_pymnt</th>\n",
       "      <th>total_rec_prncp</th>\n",
       "      <th>total_rec_int</th>\n",
       "      <th>last_pymnt_amnt</th>\n",
       "    </tr>\n",
       "  </thead>\n",
       "  <tbody>\n",
       "    <tr>\n",
       "      <th>23538</th>\n",
       "      <td>25000.0</td>\n",
       "      <td>36</td>\n",
       "      <td>11.71</td>\n",
       "      <td>826.90</td>\n",
       "      <td>10+ years</td>\n",
       "      <td>0</td>\n",
       "      <td>70000.0</td>\n",
       "      <td>Verified</td>\n",
       "      <td>Fully Paid</td>\n",
       "      <td>debt_consolidation</td>\n",
       "      <td>29768.37000</td>\n",
       "      <td>25000.00</td>\n",
       "      <td>4768.37</td>\n",
       "      <td>859.45</td>\n",
       "    </tr>\n",
       "    <tr>\n",
       "      <th>30976</th>\n",
       "      <td>24000.0</td>\n",
       "      <td>36</td>\n",
       "      <td>12.61</td>\n",
       "      <td>804.16</td>\n",
       "      <td>10+ years</td>\n",
       "      <td>1</td>\n",
       "      <td>234000.0</td>\n",
       "      <td>Not Verified</td>\n",
       "      <td>Charged Off</td>\n",
       "      <td>other</td>\n",
       "      <td>18535.70000</td>\n",
       "      <td>14260.69</td>\n",
       "      <td>4223.97</td>\n",
       "      <td>1648.53</td>\n",
       "    </tr>\n",
       "    <tr>\n",
       "      <th>5788</th>\n",
       "      <td>2500.0</td>\n",
       "      <td>36</td>\n",
       "      <td>16.82</td>\n",
       "      <td>88.91</td>\n",
       "      <td>2 years</td>\n",
       "      <td>0</td>\n",
       "      <td>14400.0</td>\n",
       "      <td>Not Verified</td>\n",
       "      <td>Charged Off</td>\n",
       "      <td>debt_consolidation</td>\n",
       "      <td>889.44000</td>\n",
       "      <td>510.42</td>\n",
       "      <td>285.90</td>\n",
       "      <td>88.91</td>\n",
       "    </tr>\n",
       "    <tr>\n",
       "      <th>22134</th>\n",
       "      <td>18200.0</td>\n",
       "      <td>36</td>\n",
       "      <td>8.88</td>\n",
       "      <td>577.74</td>\n",
       "      <td>4 years</td>\n",
       "      <td>0</td>\n",
       "      <td>36000.0</td>\n",
       "      <td>Verified</td>\n",
       "      <td>Fully Paid</td>\n",
       "      <td>debt_consolidation</td>\n",
       "      <td>20800.15926</td>\n",
       "      <td>18200.00</td>\n",
       "      <td>2600.16</td>\n",
       "      <td>613.87</td>\n",
       "    </tr>\n",
       "    <tr>\n",
       "      <th>24044</th>\n",
       "      <td>20200.0</td>\n",
       "      <td>60</td>\n",
       "      <td>21.28</td>\n",
       "      <td>549.67</td>\n",
       "      <td>10+ years</td>\n",
       "      <td>0</td>\n",
       "      <td>59670.0</td>\n",
       "      <td>Verified</td>\n",
       "      <td>Charged Off</td>\n",
       "      <td>debt_consolidation</td>\n",
       "      <td>13809.19000</td>\n",
       "      <td>4571.71</td>\n",
       "      <td>6997.32</td>\n",
       "      <td>579.55</td>\n",
       "    </tr>\n",
       "  </tbody>\n",
       "</table>\n",
       "</div>"
      ],
      "text/plain": [
       "       funded_amnt  term  int_rate  installment emp_length  home_ownership  \\\n",
       "23538      25000.0    36     11.71       826.90  10+ years               0   \n",
       "30976      24000.0    36     12.61       804.16  10+ years               1   \n",
       "5788        2500.0    36     16.82        88.91    2 years               0   \n",
       "22134      18200.0    36      8.88       577.74    4 years               0   \n",
       "24044      20200.0    60     21.28       549.67  10+ years               0   \n",
       "\n",
       "       annual_inc verification_status  loan_status             purpose  \\\n",
       "23538     70000.0            Verified   Fully Paid  debt_consolidation   \n",
       "30976    234000.0        Not Verified  Charged Off               other   \n",
       "5788      14400.0        Not Verified  Charged Off  debt_consolidation   \n",
       "22134     36000.0            Verified   Fully Paid  debt_consolidation   \n",
       "24044     59670.0            Verified  Charged Off  debt_consolidation   \n",
       "\n",
       "       total_pymnt  total_rec_prncp  total_rec_int  last_pymnt_amnt  \n",
       "23538  29768.37000         25000.00        4768.37           859.45  \n",
       "30976  18535.70000         14260.69        4223.97          1648.53  \n",
       "5788     889.44000           510.42         285.90            88.91  \n",
       "22134  20800.15926         18200.00        2600.16           613.87  \n",
       "24044  13809.19000          4571.71        6997.32           579.55  "
      ]
     },
     "execution_count": 72,
     "metadata": {},
     "output_type": "execute_result"
    }
   ],
   "source": [
    "X_train.head()"
   ]
  },
  {
   "cell_type": "code",
   "execution_count": 73,
   "metadata": {},
   "outputs": [],
   "source": [
    "pipe = Pipeline([\n",
    "                ('trf1',trf1),\n",
    "                ('trf2',trf2),\n",
    "                ('trf3',trf3),\n",
    "                ('trf4',trf4),\n",
    "                ('trf5',trf5)\n",
    "            ])"
   ]
  },
  {
   "cell_type": "code",
   "execution_count": 74,
   "metadata": {},
   "outputs": [
    {
     "data": {
      "text/plain": [
       "Pipeline(steps=[('trf1',\n",
       "                 ColumnTransformer(remainder='passthrough',\n",
       "                                   transformers=[('impute_age', SimpleImputer(),\n",
       "                                                  [0, 3, 6, 10, 11, 12]),\n",
       "                                                 ('emp_length',\n",
       "                                                  SimpleImputer(strategy='most_frequent'),\n",
       "                                                  [4])])),\n",
       "                ('trf2',\n",
       "                 ColumnTransformer(remainder='passthrough',\n",
       "                                   transformers=[('onehot_categorical',\n",
       "                                                  OneHotEncoder(handle_unknown='ignore',\n",
       "                                                                sparse=False),\n",
       "                                                  [7, 8, 9])])),\n",
       "                ('trf3',\n",
       "                 ColumnTransformer(transformers=[('scale', MinMaxScaler(),\n",
       "                                                  slice(0, 10, None))])),\n",
       "                ('trf4',\n",
       "                 SelectKBest(k=9,\n",
       "                             score_func=<function chi2 at 0x000002148631F730>)),\n",
       "                ('trf5', DecisionTreeClassifier())])"
      ]
     },
     "execution_count": 74,
     "metadata": {},
     "output_type": "execute_result"
    }
   ],
   "source": [
    "pipe.fit(X_train,y_train)"
   ]
  },
  {
   "cell_type": "code",
   "execution_count": 75,
   "metadata": {},
   "outputs": [
    {
     "data": {
      "text/html": [
       "<style>#sk-46ef6eeb-125a-4981-9e07-cc04bc89bf99 {color: black;background-color: white;}#sk-46ef6eeb-125a-4981-9e07-cc04bc89bf99 pre{padding: 0;}#sk-46ef6eeb-125a-4981-9e07-cc04bc89bf99 div.sk-toggleable {background-color: white;}#sk-46ef6eeb-125a-4981-9e07-cc04bc89bf99 label.sk-toggleable__label {cursor: pointer;display: block;width: 100%;margin-bottom: 0;padding: 0.3em;box-sizing: border-box;text-align: center;}#sk-46ef6eeb-125a-4981-9e07-cc04bc89bf99 label.sk-toggleable__label-arrow:before {content: \"▸\";float: left;margin-right: 0.25em;color: #696969;}#sk-46ef6eeb-125a-4981-9e07-cc04bc89bf99 label.sk-toggleable__label-arrow:hover:before {color: black;}#sk-46ef6eeb-125a-4981-9e07-cc04bc89bf99 div.sk-estimator:hover label.sk-toggleable__label-arrow:before {color: black;}#sk-46ef6eeb-125a-4981-9e07-cc04bc89bf99 div.sk-toggleable__content {max-height: 0;max-width: 0;overflow: hidden;text-align: left;background-color: #f0f8ff;}#sk-46ef6eeb-125a-4981-9e07-cc04bc89bf99 div.sk-toggleable__content pre {margin: 0.2em;color: black;border-radius: 0.25em;background-color: #f0f8ff;}#sk-46ef6eeb-125a-4981-9e07-cc04bc89bf99 input.sk-toggleable__control:checked~div.sk-toggleable__content {max-height: 200px;max-width: 100%;overflow: auto;}#sk-46ef6eeb-125a-4981-9e07-cc04bc89bf99 input.sk-toggleable__control:checked~label.sk-toggleable__label-arrow:before {content: \"▾\";}#sk-46ef6eeb-125a-4981-9e07-cc04bc89bf99 div.sk-estimator input.sk-toggleable__control:checked~label.sk-toggleable__label {background-color: #d4ebff;}#sk-46ef6eeb-125a-4981-9e07-cc04bc89bf99 div.sk-label input.sk-toggleable__control:checked~label.sk-toggleable__label {background-color: #d4ebff;}#sk-46ef6eeb-125a-4981-9e07-cc04bc89bf99 input.sk-hidden--visually {border: 0;clip: rect(1px 1px 1px 1px);clip: rect(1px, 1px, 1px, 1px);height: 1px;margin: -1px;overflow: hidden;padding: 0;position: absolute;width: 1px;}#sk-46ef6eeb-125a-4981-9e07-cc04bc89bf99 div.sk-estimator {font-family: monospace;background-color: #f0f8ff;border: 1px dotted black;border-radius: 0.25em;box-sizing: border-box;margin-bottom: 0.5em;}#sk-46ef6eeb-125a-4981-9e07-cc04bc89bf99 div.sk-estimator:hover {background-color: #d4ebff;}#sk-46ef6eeb-125a-4981-9e07-cc04bc89bf99 div.sk-parallel-item::after {content: \"\";width: 100%;border-bottom: 1px solid gray;flex-grow: 1;}#sk-46ef6eeb-125a-4981-9e07-cc04bc89bf99 div.sk-label:hover label.sk-toggleable__label {background-color: #d4ebff;}#sk-46ef6eeb-125a-4981-9e07-cc04bc89bf99 div.sk-serial::before {content: \"\";position: absolute;border-left: 1px solid gray;box-sizing: border-box;top: 2em;bottom: 0;left: 50%;}#sk-46ef6eeb-125a-4981-9e07-cc04bc89bf99 div.sk-serial {display: flex;flex-direction: column;align-items: center;background-color: white;padding-right: 0.2em;padding-left: 0.2em;}#sk-46ef6eeb-125a-4981-9e07-cc04bc89bf99 div.sk-item {z-index: 1;}#sk-46ef6eeb-125a-4981-9e07-cc04bc89bf99 div.sk-parallel {display: flex;align-items: stretch;justify-content: center;background-color: white;}#sk-46ef6eeb-125a-4981-9e07-cc04bc89bf99 div.sk-parallel::before {content: \"\";position: absolute;border-left: 1px solid gray;box-sizing: border-box;top: 2em;bottom: 0;left: 50%;}#sk-46ef6eeb-125a-4981-9e07-cc04bc89bf99 div.sk-parallel-item {display: flex;flex-direction: column;position: relative;background-color: white;}#sk-46ef6eeb-125a-4981-9e07-cc04bc89bf99 div.sk-parallel-item:first-child::after {align-self: flex-end;width: 50%;}#sk-46ef6eeb-125a-4981-9e07-cc04bc89bf99 div.sk-parallel-item:last-child::after {align-self: flex-start;width: 50%;}#sk-46ef6eeb-125a-4981-9e07-cc04bc89bf99 div.sk-parallel-item:only-child::after {width: 0;}#sk-46ef6eeb-125a-4981-9e07-cc04bc89bf99 div.sk-dashed-wrapped {border: 1px dashed gray;margin: 0 0.4em 0.5em 0.4em;box-sizing: border-box;padding-bottom: 0.4em;background-color: white;position: relative;}#sk-46ef6eeb-125a-4981-9e07-cc04bc89bf99 div.sk-label label {font-family: monospace;font-weight: bold;background-color: white;display: inline-block;line-height: 1.2em;}#sk-46ef6eeb-125a-4981-9e07-cc04bc89bf99 div.sk-label-container {position: relative;z-index: 2;text-align: center;}#sk-46ef6eeb-125a-4981-9e07-cc04bc89bf99 div.sk-container {/* jupyter's `normalize.less` sets `[hidden] { display: none; }` but bootstrap.min.css set `[hidden] { display: none !important; }` so we also need the `!important` here to be able to override the default hidden behavior on the sphinx rendered scikit-learn.org. See: https://github.com/scikit-learn/scikit-learn/issues/21755 */display: inline-block !important;position: relative;}#sk-46ef6eeb-125a-4981-9e07-cc04bc89bf99 div.sk-text-repr-fallback {display: none;}</style><div id=\"sk-46ef6eeb-125a-4981-9e07-cc04bc89bf99\" class=\"sk-top-container\"><div class=\"sk-text-repr-fallback\"><pre>Pipeline(steps=[(&#x27;trf1&#x27;,\n",
       "                 ColumnTransformer(remainder=&#x27;passthrough&#x27;,\n",
       "                                   transformers=[(&#x27;impute_age&#x27;, SimpleImputer(),\n",
       "                                                  [0, 3, 6, 10, 11, 12]),\n",
       "                                                 (&#x27;emp_length&#x27;,\n",
       "                                                  SimpleImputer(strategy=&#x27;most_frequent&#x27;),\n",
       "                                                  [4])])),\n",
       "                (&#x27;trf2&#x27;,\n",
       "                 ColumnTransformer(remainder=&#x27;passthrough&#x27;,\n",
       "                                   transformers=[(&#x27;onehot_categorical&#x27;,\n",
       "                                                  OneHotEncoder(handle_unknown=&#x27;ignore&#x27;,\n",
       "                                                                sparse=False),\n",
       "                                                  [7, 8, 9])])),\n",
       "                (&#x27;trf3&#x27;,\n",
       "                 ColumnTransformer(transformers=[(&#x27;scale&#x27;, MinMaxScaler(),\n",
       "                                                  slice(0, 10, None))])),\n",
       "                (&#x27;trf4&#x27;,\n",
       "                 SelectKBest(k=9,\n",
       "                             score_func=&lt;function chi2 at 0x000002148631F730&gt;)),\n",
       "                (&#x27;trf5&#x27;, DecisionTreeClassifier())])</pre><b>Please rerun this cell to show the HTML repr or trust the notebook.</b></div><div class=\"sk-container\" hidden><div class=\"sk-item sk-dashed-wrapped\"><div class=\"sk-label-container\"><div class=\"sk-label sk-toggleable\"><input class=\"sk-toggleable__control sk-hidden--visually\" id=\"115fe5eb-b28f-40fb-8801-fa20fa9f6d8b\" type=\"checkbox\" ><label for=\"115fe5eb-b28f-40fb-8801-fa20fa9f6d8b\" class=\"sk-toggleable__label sk-toggleable__label-arrow\">Pipeline</label><div class=\"sk-toggleable__content\"><pre>Pipeline(steps=[(&#x27;trf1&#x27;,\n",
       "                 ColumnTransformer(remainder=&#x27;passthrough&#x27;,\n",
       "                                   transformers=[(&#x27;impute_age&#x27;, SimpleImputer(),\n",
       "                                                  [0, 3, 6, 10, 11, 12]),\n",
       "                                                 (&#x27;emp_length&#x27;,\n",
       "                                                  SimpleImputer(strategy=&#x27;most_frequent&#x27;),\n",
       "                                                  [4])])),\n",
       "                (&#x27;trf2&#x27;,\n",
       "                 ColumnTransformer(remainder=&#x27;passthrough&#x27;,\n",
       "                                   transformers=[(&#x27;onehot_categorical&#x27;,\n",
       "                                                  OneHotEncoder(handle_unknown=&#x27;ignore&#x27;,\n",
       "                                                                sparse=False),\n",
       "                                                  [7, 8, 9])])),\n",
       "                (&#x27;trf3&#x27;,\n",
       "                 ColumnTransformer(transformers=[(&#x27;scale&#x27;, MinMaxScaler(),\n",
       "                                                  slice(0, 10, None))])),\n",
       "                (&#x27;trf4&#x27;,\n",
       "                 SelectKBest(k=9,\n",
       "                             score_func=&lt;function chi2 at 0x000002148631F730&gt;)),\n",
       "                (&#x27;trf5&#x27;, DecisionTreeClassifier())])</pre></div></div></div><div class=\"sk-serial\"><div class=\"sk-item sk-dashed-wrapped\"><div class=\"sk-label-container\"><div class=\"sk-label sk-toggleable\"><input class=\"sk-toggleable__control sk-hidden--visually\" id=\"ff3059ab-7463-40d6-a89b-a9716b0d99e3\" type=\"checkbox\" ><label for=\"ff3059ab-7463-40d6-a89b-a9716b0d99e3\" class=\"sk-toggleable__label sk-toggleable__label-arrow\">trf1: ColumnTransformer</label><div class=\"sk-toggleable__content\"><pre>ColumnTransformer(remainder=&#x27;passthrough&#x27;,\n",
       "                  transformers=[(&#x27;impute_age&#x27;, SimpleImputer(),\n",
       "                                 [0, 3, 6, 10, 11, 12]),\n",
       "                                (&#x27;emp_length&#x27;,\n",
       "                                 SimpleImputer(strategy=&#x27;most_frequent&#x27;),\n",
       "                                 [4])])</pre></div></div></div><div class=\"sk-parallel\"><div class=\"sk-parallel-item\"><div class=\"sk-item\"><div class=\"sk-label-container\"><div class=\"sk-label sk-toggleable\"><input class=\"sk-toggleable__control sk-hidden--visually\" id=\"4f225c13-e917-49bf-9640-7c58aaf2a2c3\" type=\"checkbox\" ><label for=\"4f225c13-e917-49bf-9640-7c58aaf2a2c3\" class=\"sk-toggleable__label sk-toggleable__label-arrow\">impute_age</label><div class=\"sk-toggleable__content\"><pre>[0, 3, 6, 10, 11, 12]</pre></div></div></div><div class=\"sk-serial\"><div class=\"sk-item\"><div class=\"sk-estimator sk-toggleable\"><input class=\"sk-toggleable__control sk-hidden--visually\" id=\"d2eef253-4716-4cdd-873a-8f18491fa75d\" type=\"checkbox\" ><label for=\"d2eef253-4716-4cdd-873a-8f18491fa75d\" class=\"sk-toggleable__label sk-toggleable__label-arrow\">SimpleImputer</label><div class=\"sk-toggleable__content\"><pre>SimpleImputer()</pre></div></div></div></div></div></div><div class=\"sk-parallel-item\"><div class=\"sk-item\"><div class=\"sk-label-container\"><div class=\"sk-label sk-toggleable\"><input class=\"sk-toggleable__control sk-hidden--visually\" id=\"99381ebc-e3c6-4ee6-906c-0749cd480804\" type=\"checkbox\" ><label for=\"99381ebc-e3c6-4ee6-906c-0749cd480804\" class=\"sk-toggleable__label sk-toggleable__label-arrow\">emp_length</label><div class=\"sk-toggleable__content\"><pre>[4]</pre></div></div></div><div class=\"sk-serial\"><div class=\"sk-item\"><div class=\"sk-estimator sk-toggleable\"><input class=\"sk-toggleable__control sk-hidden--visually\" id=\"ad99f659-056e-4075-99bf-5f7bffd6fc93\" type=\"checkbox\" ><label for=\"ad99f659-056e-4075-99bf-5f7bffd6fc93\" class=\"sk-toggleable__label sk-toggleable__label-arrow\">SimpleImputer</label><div class=\"sk-toggleable__content\"><pre>SimpleImputer(strategy=&#x27;most_frequent&#x27;)</pre></div></div></div></div></div></div><div class=\"sk-parallel-item\"><div class=\"sk-item\"><div class=\"sk-label-container\"><div class=\"sk-label sk-toggleable\"><input class=\"sk-toggleable__control sk-hidden--visually\" id=\"1f5193e2-7369-4edc-98a0-278653454513\" type=\"checkbox\" ><label for=\"1f5193e2-7369-4edc-98a0-278653454513\" class=\"sk-toggleable__label sk-toggleable__label-arrow\">remainder</label><div class=\"sk-toggleable__content\"><pre>[&#x27;term&#x27;, &#x27;int_rate&#x27;, &#x27;home_ownership&#x27;, &#x27;verification_status&#x27;, &#x27;loan_status&#x27;, &#x27;purpose&#x27;, &#x27;last_pymnt_amnt&#x27;]</pre></div></div></div><div class=\"sk-serial\"><div class=\"sk-item\"><div class=\"sk-estimator sk-toggleable\"><input class=\"sk-toggleable__control sk-hidden--visually\" id=\"fa094f1c-c38c-4cb8-b136-a1ab2754ad65\" type=\"checkbox\" ><label for=\"fa094f1c-c38c-4cb8-b136-a1ab2754ad65\" class=\"sk-toggleable__label sk-toggleable__label-arrow\">passthrough</label><div class=\"sk-toggleable__content\"><pre>passthrough</pre></div></div></div></div></div></div></div></div><div class=\"sk-item sk-dashed-wrapped\"><div class=\"sk-label-container\"><div class=\"sk-label sk-toggleable\"><input class=\"sk-toggleable__control sk-hidden--visually\" id=\"6bbb9ebd-e951-4631-acc9-d51fb88a10c4\" type=\"checkbox\" ><label for=\"6bbb9ebd-e951-4631-acc9-d51fb88a10c4\" class=\"sk-toggleable__label sk-toggleable__label-arrow\">trf2: ColumnTransformer</label><div class=\"sk-toggleable__content\"><pre>ColumnTransformer(remainder=&#x27;passthrough&#x27;,\n",
       "                  transformers=[(&#x27;onehot_categorical&#x27;,\n",
       "                                 OneHotEncoder(handle_unknown=&#x27;ignore&#x27;,\n",
       "                                               sparse=False),\n",
       "                                 [7, 8, 9])])</pre></div></div></div><div class=\"sk-parallel\"><div class=\"sk-parallel-item\"><div class=\"sk-item\"><div class=\"sk-label-container\"><div class=\"sk-label sk-toggleable\"><input class=\"sk-toggleable__control sk-hidden--visually\" id=\"8d181095-89a0-4700-90dd-60f7b9400a99\" type=\"checkbox\" ><label for=\"8d181095-89a0-4700-90dd-60f7b9400a99\" class=\"sk-toggleable__label sk-toggleable__label-arrow\">onehot_categorical</label><div class=\"sk-toggleable__content\"><pre>[7, 8, 9]</pre></div></div></div><div class=\"sk-serial\"><div class=\"sk-item\"><div class=\"sk-estimator sk-toggleable\"><input class=\"sk-toggleable__control sk-hidden--visually\" id=\"cacce93b-e37b-42a7-953a-05e8ef2f4ad0\" type=\"checkbox\" ><label for=\"cacce93b-e37b-42a7-953a-05e8ef2f4ad0\" class=\"sk-toggleable__label sk-toggleable__label-arrow\">OneHotEncoder</label><div class=\"sk-toggleable__content\"><pre>OneHotEncoder(handle_unknown=&#x27;ignore&#x27;, sparse=False)</pre></div></div></div></div></div></div><div class=\"sk-parallel-item\"><div class=\"sk-item\"><div class=\"sk-label-container\"><div class=\"sk-label sk-toggleable\"><input class=\"sk-toggleable__control sk-hidden--visually\" id=\"aa6bee71-edb0-43eb-90cf-590fecd235ca\" type=\"checkbox\" ><label for=\"aa6bee71-edb0-43eb-90cf-590fecd235ca\" class=\"sk-toggleable__label sk-toggleable__label-arrow\">remainder</label><div class=\"sk-toggleable__content\"><pre>[0, 1, 2, 3, 4, 5, 6, 10, 11, 12, 13]</pre></div></div></div><div class=\"sk-serial\"><div class=\"sk-item\"><div class=\"sk-estimator sk-toggleable\"><input class=\"sk-toggleable__control sk-hidden--visually\" id=\"2fd178d0-0f18-496c-87c9-e09f7a1dfd3d\" type=\"checkbox\" ><label for=\"2fd178d0-0f18-496c-87c9-e09f7a1dfd3d\" class=\"sk-toggleable__label sk-toggleable__label-arrow\">passthrough</label><div class=\"sk-toggleable__content\"><pre>passthrough</pre></div></div></div></div></div></div></div></div><div class=\"sk-item sk-dashed-wrapped\"><div class=\"sk-label-container\"><div class=\"sk-label sk-toggleable\"><input class=\"sk-toggleable__control sk-hidden--visually\" id=\"c92930a0-0144-4735-a3d6-f53ad06e83b7\" type=\"checkbox\" ><label for=\"c92930a0-0144-4735-a3d6-f53ad06e83b7\" class=\"sk-toggleable__label sk-toggleable__label-arrow\">trf3: ColumnTransformer</label><div class=\"sk-toggleable__content\"><pre>ColumnTransformer(transformers=[(&#x27;scale&#x27;, MinMaxScaler(), slice(0, 10, None))])</pre></div></div></div><div class=\"sk-parallel\"><div class=\"sk-parallel-item\"><div class=\"sk-item\"><div class=\"sk-label-container\"><div class=\"sk-label sk-toggleable\"><input class=\"sk-toggleable__control sk-hidden--visually\" id=\"c2ff8c65-6423-430e-bf7b-44c1d406286a\" type=\"checkbox\" ><label for=\"c2ff8c65-6423-430e-bf7b-44c1d406286a\" class=\"sk-toggleable__label sk-toggleable__label-arrow\">scale</label><div class=\"sk-toggleable__content\"><pre>slice(0, 10, None)</pre></div></div></div><div class=\"sk-serial\"><div class=\"sk-item\"><div class=\"sk-estimator sk-toggleable\"><input class=\"sk-toggleable__control sk-hidden--visually\" id=\"879e69a6-8a06-4192-a450-b5bb26f99af7\" type=\"checkbox\" ><label for=\"879e69a6-8a06-4192-a450-b5bb26f99af7\" class=\"sk-toggleable__label sk-toggleable__label-arrow\">MinMaxScaler</label><div class=\"sk-toggleable__content\"><pre>MinMaxScaler()</pre></div></div></div></div></div></div></div></div><div class=\"sk-item\"><div class=\"sk-estimator sk-toggleable\"><input class=\"sk-toggleable__control sk-hidden--visually\" id=\"f793deb2-c098-460d-a253-ce42bcf62faf\" type=\"checkbox\" ><label for=\"f793deb2-c098-460d-a253-ce42bcf62faf\" class=\"sk-toggleable__label sk-toggleable__label-arrow\">SelectKBest</label><div class=\"sk-toggleable__content\"><pre>SelectKBest(k=9, score_func=&lt;function chi2 at 0x000002148631F730&gt;)</pre></div></div></div><div class=\"sk-item\"><div class=\"sk-estimator sk-toggleable\"><input class=\"sk-toggleable__control sk-hidden--visually\" id=\"f025d238-f66f-47cf-8da2-f012a9ab4779\" type=\"checkbox\" ><label for=\"f025d238-f66f-47cf-8da2-f012a9ab4779\" class=\"sk-toggleable__label sk-toggleable__label-arrow\">DecisionTreeClassifier</label><div class=\"sk-toggleable__content\"><pre>DecisionTreeClassifier()</pre></div></div></div></div></div></div></div>"
      ],
      "text/plain": [
       "Pipeline(steps=[('trf1',\n",
       "                 ColumnTransformer(remainder='passthrough',\n",
       "                                   transformers=[('impute_age', SimpleImputer(),\n",
       "                                                  [0, 3, 6, 10, 11, 12]),\n",
       "                                                 ('emp_length',\n",
       "                                                  SimpleImputer(strategy='most_frequent'),\n",
       "                                                  [4])])),\n",
       "                ('trf2',\n",
       "                 ColumnTransformer(remainder='passthrough',\n",
       "                                   transformers=[('onehot_categorical',\n",
       "                                                  OneHotEncoder(handle_unknown='ignore',\n",
       "                                                                sparse=False),\n",
       "                                                  [7, 8, 9])])),\n",
       "                ('trf3',\n",
       "                 ColumnTransformer(transformers=[('scale', MinMaxScaler(),\n",
       "                                                  slice(0, 10, None))])),\n",
       "                ('trf4',\n",
       "                 SelectKBest(k=9,\n",
       "                             score_func=<function chi2 at 0x000002148631F730>)),\n",
       "                ('trf5', DecisionTreeClassifier())])"
      ]
     },
     "execution_count": 75,
     "metadata": {},
     "output_type": "execute_result"
    }
   ],
   "source": [
    "from sklearn import set_config\n",
    "set_config(display=\"diagram\")\n",
    "pipe"
   ]
  }
 ],
 "metadata": {
  "kernelspec": {
   "display_name": "Python 3 (ipykernel)",
   "language": "python",
   "name": "python3"
  },
  "language_info": {
   "codemirror_mode": {
    "name": "ipython",
    "version": 3
   },
   "file_extension": ".py",
   "mimetype": "text/x-python",
   "name": "python",
   "nbconvert_exporter": "python",
   "pygments_lexer": "ipython3",
   "version": "3.11.3"
  }
 },
 "nbformat": 4,
 "nbformat_minor": 2
}
